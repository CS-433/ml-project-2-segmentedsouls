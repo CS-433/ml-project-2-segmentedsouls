{
  "cells": [
    {
      "cell_type": "markdown",
      "metadata": {
        "id": "trGnri_MXvx4"
      },
      "source": [
        "Cellpose Training arena\n",
        "\n",
        "This notebook includes code to train models and collect data to crossvalidate across multiple hyperparams.\n",
        "\n",
        "\n"
      ]
    },
    {
      "cell_type": "code",
      "execution_count": 1,
      "metadata": {
        "colab": {
          "base_uri": "https://localhost:8080/"
        },
        "id": "UrNY4PO1yBXA",
        "outputId": "1efb199f-0aa6-4fea-9032-5542bac5bed6"
      },
      "outputs": [
        {
          "name": "stdout",
          "output_type": "stream",
          "text": [
            "Collecting opencv-python-headless<4.3\n",
            "  Downloading opencv_python_headless-3.4.18.65-cp36-abi3-manylinux_2_17_x86_64.manylinux2014_x86_64.whl (45.7 MB)\n",
            "\u001b[2K     \u001b[90m━━━━━━━━━━━━━━━━━━━━━━━━━━━━━━━━━━━━━━━━\u001b[0m \u001b[32m45.7/45.7 MB\u001b[0m \u001b[31m12.1 MB/s\u001b[0m eta \u001b[36m0:00:00\u001b[0m\n",
            "\u001b[?25hRequirement already satisfied: numpy>=1.21.2 in /usr/local/lib/python3.10/dist-packages (from opencv-python-headless<4.3) (1.23.5)\n",
            "Installing collected packages: opencv-python-headless\n",
            "  Attempting uninstall: opencv-python-headless\n",
            "    Found existing installation: opencv-python-headless 4.8.1.78\n",
            "    Uninstalling opencv-python-headless-4.8.1.78:\n",
            "      Successfully uninstalled opencv-python-headless-4.8.1.78\n",
            "\u001b[31mERROR: pip's dependency resolver does not currently take into account all the packages that are installed. This behaviour is the source of the following dependency conflicts.\n",
            "albumentations 1.3.1 requires opencv-python-headless>=4.1.1, but you have opencv-python-headless 3.4.18.65 which is incompatible.\n",
            "qudida 0.0.4 requires opencv-python-headless>=4.0.1, but you have opencv-python-headless 3.4.18.65 which is incompatible.\u001b[0m\u001b[31m\n",
            "\u001b[0mSuccessfully installed opencv-python-headless-3.4.18.65\n",
            "Collecting cellpose\n",
            "  Downloading cellpose-2.2.3-py3-none-any.whl (173 kB)\n",
            "\u001b[2K     \u001b[90m━━━━━━━━━━━━━━━━━━━━━━━━━━━━━━━━━━━━━━━━\u001b[0m \u001b[32m173.5/173.5 kB\u001b[0m \u001b[31m1.9 MB/s\u001b[0m eta \u001b[36m0:00:00\u001b[0m\n",
            "\u001b[?25hRequirement already satisfied: numpy>=1.20.0 in /usr/local/lib/python3.10/dist-packages (from cellpose) (1.23.5)\n",
            "Requirement already satisfied: scipy in /usr/local/lib/python3.10/dist-packages (from cellpose) (1.11.4)\n",
            "Requirement already satisfied: natsort in /usr/local/lib/python3.10/dist-packages (from cellpose) (8.4.0)\n",
            "Requirement already satisfied: tifffile in /usr/local/lib/python3.10/dist-packages (from cellpose) (2023.12.9)\n",
            "Requirement already satisfied: tqdm in /usr/local/lib/python3.10/dist-packages (from cellpose) (4.66.1)\n",
            "Requirement already satisfied: numba>=0.53.0 in /usr/local/lib/python3.10/dist-packages (from cellpose) (0.58.1)\n",
            "Requirement already satisfied: llvmlite in /usr/local/lib/python3.10/dist-packages (from cellpose) (0.41.1)\n",
            "Requirement already satisfied: torch>=1.6 in /usr/local/lib/python3.10/dist-packages (from cellpose) (2.1.0+cu121)\n",
            "Requirement already satisfied: opencv-python-headless in /usr/local/lib/python3.10/dist-packages (from cellpose) (3.4.18.65)\n",
            "Collecting fastremap (from cellpose)\n",
            "  Downloading fastremap-1.14.0-cp310-cp310-manylinux_2_17_x86_64.manylinux2014_x86_64.whl (6.0 MB)\n",
            "\u001b[2K     \u001b[90m━━━━━━━━━━━━━━━━━━━━━━━━━━━━━━━━━━━━━━━━\u001b[0m \u001b[32m6.0/6.0 MB\u001b[0m \u001b[31m63.0 MB/s\u001b[0m eta \u001b[36m0:00:00\u001b[0m\n",
            "\u001b[?25hCollecting imagecodecs (from cellpose)\n",
            "  Downloading imagecodecs-2023.9.18-cp310-cp310-manylinux_2_17_x86_64.manylinux2014_x86_64.whl (37.3 MB)\n",
            "\u001b[2K     \u001b[90m━━━━━━━━━━━━━━━━━━━━━━━━━━━━━━━━━━━━━━━━\u001b[0m \u001b[32m37.3/37.3 MB\u001b[0m \u001b[31m38.9 MB/s\u001b[0m eta \u001b[36m0:00:00\u001b[0m\n",
            "\u001b[?25hCollecting roifile (from cellpose)\n",
            "  Downloading roifile-2023.8.30-py3-none-any.whl (16 kB)\n",
            "Requirement already satisfied: filelock in /usr/local/lib/python3.10/dist-packages (from torch>=1.6->cellpose) (3.13.1)\n",
            "Requirement already satisfied: typing-extensions in /usr/local/lib/python3.10/dist-packages (from torch>=1.6->cellpose) (4.5.0)\n",
            "Requirement already satisfied: sympy in /usr/local/lib/python3.10/dist-packages (from torch>=1.6->cellpose) (1.12)\n",
            "Requirement already satisfied: networkx in /usr/local/lib/python3.10/dist-packages (from torch>=1.6->cellpose) (3.2.1)\n",
            "Requirement already satisfied: jinja2 in /usr/local/lib/python3.10/dist-packages (from torch>=1.6->cellpose) (3.1.2)\n",
            "Requirement already satisfied: fsspec in /usr/local/lib/python3.10/dist-packages (from torch>=1.6->cellpose) (2023.6.0)\n",
            "Requirement already satisfied: triton==2.1.0 in /usr/local/lib/python3.10/dist-packages (from torch>=1.6->cellpose) (2.1.0)\n",
            "Requirement already satisfied: MarkupSafe>=2.0 in /usr/local/lib/python3.10/dist-packages (from jinja2->torch>=1.6->cellpose) (2.1.3)\n",
            "Requirement already satisfied: mpmath>=0.19 in /usr/local/lib/python3.10/dist-packages (from sympy->torch>=1.6->cellpose) (1.3.0)\n",
            "Installing collected packages: roifile, imagecodecs, fastremap, cellpose\n",
            "Successfully installed cellpose-2.2.3 fastremap-1.14.0 imagecodecs-2023.9.18 roifile-2023.8.30\n",
            "Collecting stardist\n",
            "  Downloading stardist-0.8.5-cp310-cp310-manylinux_2_17_x86_64.manylinux2014_x86_64.whl (3.0 MB)\n",
            "\u001b[2K     \u001b[90m━━━━━━━━━━━━━━━━━━━━━━━━━━━━━━━━━━━━━━━━\u001b[0m \u001b[32m3.0/3.0 MB\u001b[0m \u001b[31m38.0 MB/s\u001b[0m eta \u001b[36m0:00:00\u001b[0m\n",
            "\u001b[?25hCollecting csbdeep>=0.7.4 (from stardist)\n",
            "  Downloading csbdeep-0.7.4-py2.py3-none-any.whl (69 kB)\n",
            "\u001b[2K     \u001b[90m━━━━━━━━━━━━━━━━━━━━━━━━━━━━━━━━━━━━━━━━\u001b[0m \u001b[32m69.8/69.8 kB\u001b[0m \u001b[31m10.9 MB/s\u001b[0m eta \u001b[36m0:00:00\u001b[0m\n",
            "\u001b[?25hRequirement already satisfied: scikit-image in /usr/local/lib/python3.10/dist-packages (from stardist) (0.19.3)\n",
            "Requirement already satisfied: numba in /usr/local/lib/python3.10/dist-packages (from stardist) (0.58.1)\n",
            "Requirement already satisfied: imageio in /usr/local/lib/python3.10/dist-packages (from stardist) (2.31.6)\n",
            "Requirement already satisfied: numpy in /usr/local/lib/python3.10/dist-packages (from csbdeep>=0.7.4->stardist) (1.23.5)\n",
            "Requirement already satisfied: scipy in /usr/local/lib/python3.10/dist-packages (from csbdeep>=0.7.4->stardist) (1.11.4)\n",
            "Requirement already satisfied: matplotlib in /usr/local/lib/python3.10/dist-packages (from csbdeep>=0.7.4->stardist) (3.7.1)\n",
            "Requirement already satisfied: six in /usr/local/lib/python3.10/dist-packages (from csbdeep>=0.7.4->stardist) (1.16.0)\n",
            "Requirement already satisfied: tifffile in /usr/local/lib/python3.10/dist-packages (from csbdeep>=0.7.4->stardist) (2023.12.9)\n",
            "Requirement already satisfied: tqdm in /usr/local/lib/python3.10/dist-packages (from csbdeep>=0.7.4->stardist) (4.66.1)\n",
            "Requirement already satisfied: packaging in /usr/local/lib/python3.10/dist-packages (from csbdeep>=0.7.4->stardist) (23.2)\n",
            "Requirement already satisfied: pillow<10.1.0,>=8.3.2 in /usr/local/lib/python3.10/dist-packages (from imageio->stardist) (9.4.0)\n",
            "Requirement already satisfied: llvmlite<0.42,>=0.41.0dev0 in /usr/local/lib/python3.10/dist-packages (from numba->stardist) (0.41.1)\n",
            "Requirement already satisfied: networkx>=2.2 in /usr/local/lib/python3.10/dist-packages (from scikit-image->stardist) (3.2.1)\n",
            "Requirement already satisfied: PyWavelets>=1.1.1 in /usr/local/lib/python3.10/dist-packages (from scikit-image->stardist) (1.5.0)\n",
            "Requirement already satisfied: contourpy>=1.0.1 in /usr/local/lib/python3.10/dist-packages (from matplotlib->csbdeep>=0.7.4->stardist) (1.2.0)\n",
            "Requirement already satisfied: cycler>=0.10 in /usr/local/lib/python3.10/dist-packages (from matplotlib->csbdeep>=0.7.4->stardist) (0.12.1)\n",
            "Requirement already satisfied: fonttools>=4.22.0 in /usr/local/lib/python3.10/dist-packages (from matplotlib->csbdeep>=0.7.4->stardist) (4.46.0)\n",
            "Requirement already satisfied: kiwisolver>=1.0.1 in /usr/local/lib/python3.10/dist-packages (from matplotlib->csbdeep>=0.7.4->stardist) (1.4.5)\n",
            "Requirement already satisfied: pyparsing>=2.3.1 in /usr/local/lib/python3.10/dist-packages (from matplotlib->csbdeep>=0.7.4->stardist) (3.1.1)\n",
            "Requirement already satisfied: python-dateutil>=2.7 in /usr/local/lib/python3.10/dist-packages (from matplotlib->csbdeep>=0.7.4->stardist) (2.8.2)\n",
            "Installing collected packages: csbdeep, stardist\n",
            "Successfully installed csbdeep-0.7.4 stardist-0.8.5\n"
          ]
        }
      ],
      "source": [
        "!pip install \"opencv-python-headless<4.3\"\n",
        "!pip install cellpose\n",
        "!pip install stardist #to access matching_dataset\n"
      ]
    },
    {
      "cell_type": "code",
      "execution_count": 2,
      "metadata": {
        "colab": {
          "base_uri": "https://localhost:8080/"
        },
        "id": "rQtvdFAyyGQr",
        "outputId": "e6a24948-e0d0-4555-9347-ea3081ee01de"
      },
      "outputs": [
        {
          "name": "stdout",
          "output_type": "stream",
          "text": [
            "nvcc: NVIDIA (R) Cuda compiler driver\n",
            "Copyright (c) 2005-2023 NVIDIA Corporation\n",
            "Built on Tue_Aug_15_22:02:13_PDT_2023\n",
            "Cuda compilation tools, release 12.2, V12.2.140\n",
            "Build cuda_12.2.r12.2/compiler.33191640_0\n",
            "Sat Dec 16 20:59:42 2023       \n",
            "+---------------------------------------------------------------------------------------+\n",
            "| NVIDIA-SMI 535.104.05             Driver Version: 535.104.05   CUDA Version: 12.2     |\n",
            "|-----------------------------------------+----------------------+----------------------+\n",
            "| GPU  Name                 Persistence-M | Bus-Id        Disp.A | Volatile Uncorr. ECC |\n",
            "| Fan  Temp   Perf          Pwr:Usage/Cap |         Memory-Usage | GPU-Util  Compute M. |\n",
            "|                                         |                      |               MIG M. |\n",
            "|=========================================+======================+======================|\n",
            "|   0  Tesla T4                       Off | 00000000:00:04.0 Off |                    0 |\n",
            "| N/A   48C    P8              11W /  70W |      0MiB / 15360MiB |      0%      Default |\n",
            "|                                         |                      |                  N/A |\n",
            "+-----------------------------------------+----------------------+----------------------+\n",
            "                                                                                         \n",
            "+---------------------------------------------------------------------------------------+\n",
            "| Processes:                                                                            |\n",
            "|  GPU   GI   CI        PID   Type   Process name                            GPU Memory |\n",
            "|        ID   ID                                                             Usage      |\n",
            "|=======================================================================================|\n",
            "|  No running processes found                                                           |\n",
            "+---------------------------------------------------------------------------------------+\n",
            ">>> GPU activated? YES\n"
          ]
        }
      ],
      "source": [
        "!nvcc --version\n",
        "!nvidia-smi\n",
        "\n",
        "import os, shutil\n",
        "import numpy as np\n",
        "import matplotlib.pyplot as plt\n",
        "from cellpose import core, utils, io, models, metrics\n",
        "from glob import glob\n",
        "import pandas as pd\n",
        "\n",
        "use_GPU = core.use_gpu()\n",
        "yn = ['NO', 'YES']\n",
        "print(f'>>> GPU activated? {yn[use_GPU]}')\n"
      ]
    },
    {
      "cell_type": "code",
      "execution_count": 9,
      "metadata": {
        "colab": {
          "base_uri": "https://localhost:8080/"
        },
        "id": "9hXfIUh3DVrO",
        "outputId": "af400f32-d023-419c-e58e-0e3462c4df88"
      },
      "outputs": [
        {
          "name": "stdout",
          "output_type": "stream",
          "text": [
            "#### TRAINING: CP_focus_lr0.2_epochs100 LR: 0.2  empochs: 100END###\n",
            "#### VALIDATING: CP_focus_lr0.2_epochs100 LR: 0.2 empochs: 100START###\n"
          ]
        },
        {
          "name": "stderr",
          "output_type": "stream",
          "text": [
            "100%|██████████| 12/12 [00:00<00:00, 122.30it/s]\n",
            "100%|██████████| 12/12 [00:00<00:00, 109.79it/s]\n",
            "100%|██████████| 12/12 [00:00<00:00, 118.55it/s]\n",
            "100%|██████████| 12/12 [00:00<00:00, 112.65it/s]\n",
            "100%|██████████| 12/12 [00:00<00:00, 113.57it/s]\n",
            "100%|██████████| 12/12 [00:00<00:00, 115.26it/s]\n",
            "100%|██████████| 12/12 [00:00<00:00, 111.50it/s]\n",
            "100%|██████████| 12/12 [00:00<00:00, 98.13it/s] \n",
            "100%|██████████| 12/12 [00:00<00:00, 108.20it/s]\n"
          ]
        },
        {
          "name": "stdout",
          "output_type": "stream",
          "text": [
            "#### TRAINING: CP_focus_lr0.2_epochs250 LR: 0.2 epochs: 250 START###\n"
          ]
        },
        {
          "name": "stderr",
          "output_type": "stream",
          "text": [
            "100%|██████████| 5/5 [00:00<00:00, 13.28it/s]\n",
            "100%|██████████| 12/12 [00:04<00:00,  2.58it/s]\n"
          ]
        },
        {
          "name": "stdout",
          "output_type": "stream",
          "text": [
            "#### TRAINING: CP_focus_lr0.2_epochs250 LR: 0.2  empochs: 250END###\n",
            "#### VALIDATING: CP_focus_lr0.2_epochs250 LR: 0.2 empochs: 250START###\n"
          ]
        },
        {
          "name": "stderr",
          "output_type": "stream",
          "text": [
            "100%|██████████| 12/12 [00:00<00:00, 98.58it/s] \n",
            "100%|██████████| 12/12 [00:00<00:00, 113.82it/s]\n",
            "100%|██████████| 12/12 [00:00<00:00, 115.40it/s]\n",
            "100%|██████████| 12/12 [00:00<00:00, 109.13it/s]\n",
            "100%|██████████| 12/12 [00:00<00:00, 123.58it/s]\n",
            "100%|██████████| 12/12 [00:00<00:00, 116.32it/s]\n",
            "100%|██████████| 12/12 [00:00<00:00, 116.88it/s]\n",
            "100%|██████████| 12/12 [00:00<00:00, 124.43it/s]\n",
            "100%|██████████| 12/12 [00:00<00:00, 122.20it/s]\n"
          ]
        },
        {
          "name": "stdout",
          "output_type": "stream",
          "text": [
            "#### TRAINING: CP_focus_lr0.2_epochs500 LR: 0.2 epochs: 500 START###\n"
          ]
        },
        {
          "name": "stderr",
          "output_type": "stream",
          "text": [
            "100%|██████████| 5/5 [00:00<00:00, 14.43it/s]\n",
            "100%|██████████| 12/12 [00:04<00:00,  2.62it/s]\n"
          ]
        },
        {
          "name": "stdout",
          "output_type": "stream",
          "text": [
            "#### TRAINING: CP_focus_lr0.2_epochs500 LR: 0.2  empochs: 500END###\n",
            "#### VALIDATING: CP_focus_lr0.2_epochs500 LR: 0.2 empochs: 500START###\n"
          ]
        },
        {
          "name": "stderr",
          "output_type": "stream",
          "text": [
            "100%|██████████| 12/12 [00:00<00:00, 70.71it/s]\n",
            "100%|██████████| 12/12 [00:00<00:00, 70.89it/s]\n",
            "100%|██████████| 12/12 [00:00<00:00, 67.72it/s]\n",
            "100%|██████████| 12/12 [00:00<00:00, 72.08it/s]\n",
            "100%|██████████| 12/12 [00:00<00:00, 72.46it/s]\n",
            "100%|██████████| 12/12 [00:00<00:00, 71.93it/s]\n",
            "100%|██████████| 12/12 [00:00<00:00, 100.24it/s]\n",
            "100%|██████████| 12/12 [00:00<00:00, 104.31it/s]\n",
            "100%|██████████| 12/12 [00:00<00:00, 109.45it/s]\n"
          ]
        },
        {
          "name": "stdout",
          "output_type": "stream",
          "text": [
            "#### TRAINING: CP_focus_lr0.1_epochs10 LR: 0.1 epochs: 10 START###\n"
          ]
        },
        {
          "name": "stderr",
          "output_type": "stream",
          "text": [
            "100%|██████████| 5/5 [00:00<00:00, 13.83it/s]\n",
            "100%|██████████| 12/12 [00:03<00:00,  3.27it/s]\n"
          ]
        },
        {
          "name": "stdout",
          "output_type": "stream",
          "text": [
            "#### TRAINING: CP_focus_lr0.1_epochs10 LR: 0.1  empochs: 10END###\n",
            "#### VALIDATING: CP_focus_lr0.1_epochs10 LR: 0.1 empochs: 10START###\n"
          ]
        },
        {
          "name": "stderr",
          "output_type": "stream",
          "text": [
            "100%|██████████| 12/12 [00:00<00:00, 69.02it/s]\n",
            "100%|██████████| 12/12 [00:00<00:00, 68.30it/s]\n",
            "100%|██████████| 12/12 [00:00<00:00, 68.53it/s]\n",
            "100%|██████████| 12/12 [00:00<00:00, 64.07it/s]\n",
            "100%|██████████| 12/12 [00:00<00:00, 70.60it/s]\n",
            "100%|██████████| 12/12 [00:00<00:00, 72.84it/s]\n",
            "100%|██████████| 12/12 [00:00<00:00, 69.49it/s]\n",
            "100%|██████████| 12/12 [00:00<00:00, 71.35it/s]\n",
            "100%|██████████| 12/12 [00:00<00:00, 74.02it/s]\n"
          ]
        },
        {
          "name": "stdout",
          "output_type": "stream",
          "text": [
            "#### TRAINING: CP_focus_lr0.1_epochs100 LR: 0.1 epochs: 100 START###\n"
          ]
        },
        {
          "name": "stderr",
          "output_type": "stream",
          "text": [
            "100%|██████████| 5/5 [00:00<00:00, 11.19it/s]\n",
            "100%|██████████| 12/12 [00:03<00:00,  3.31it/s]\n"
          ]
        },
        {
          "name": "stdout",
          "output_type": "stream",
          "text": [
            "#### TRAINING: CP_focus_lr0.1_epochs100 LR: 0.1  empochs: 100END###\n",
            "#### VALIDATING: CP_focus_lr0.1_epochs100 LR: 0.1 empochs: 100START###\n"
          ]
        },
        {
          "name": "stderr",
          "output_type": "stream",
          "text": [
            "100%|██████████| 12/12 [00:00<00:00, 114.74it/s]\n",
            "100%|██████████| 12/12 [00:00<00:00, 71.75it/s]\n",
            "100%|██████████| 12/12 [00:00<00:00, 74.58it/s]\n",
            "100%|██████████| 12/12 [00:00<00:00, 74.75it/s]\n",
            "100%|██████████| 12/12 [00:00<00:00, 69.00it/s]\n",
            "100%|██████████| 12/12 [00:00<00:00, 69.67it/s]\n",
            "100%|██████████| 12/12 [00:00<00:00, 68.11it/s]\n",
            "100%|██████████| 12/12 [00:00<00:00, 67.09it/s]\n",
            "100%|██████████| 12/12 [00:00<00:00, 69.48it/s]\n"
          ]
        },
        {
          "name": "stdout",
          "output_type": "stream",
          "text": [
            "#### TRAINING: CP_focus_lr0.1_epochs250 LR: 0.1 epochs: 250 START###\n"
          ]
        },
        {
          "name": "stderr",
          "output_type": "stream",
          "text": [
            "100%|██████████| 5/5 [00:00<00:00,  9.53it/s]\n",
            "100%|██████████| 12/12 [00:04<00:00,  2.72it/s]\n"
          ]
        },
        {
          "name": "stdout",
          "output_type": "stream",
          "text": [
            "#### TRAINING: CP_focus_lr0.1_epochs250 LR: 0.1  empochs: 250END###\n",
            "#### VALIDATING: CP_focus_lr0.1_epochs250 LR: 0.1 empochs: 250START###\n"
          ]
        },
        {
          "name": "stderr",
          "output_type": "stream",
          "text": [
            "100%|██████████| 12/12 [00:00<00:00, 62.80it/s]\n",
            "100%|██████████| 12/12 [00:00<00:00, 65.85it/s]\n",
            "100%|██████████| 12/12 [00:00<00:00, 66.86it/s]\n",
            "100%|██████████| 12/12 [00:00<00:00, 69.14it/s]\n",
            "100%|██████████| 12/12 [00:00<00:00, 66.49it/s]\n",
            "100%|██████████| 12/12 [00:00<00:00, 67.57it/s]\n",
            "100%|██████████| 12/12 [00:00<00:00, 67.29it/s]\n",
            "100%|██████████| 12/12 [00:00<00:00, 75.01it/s]\n",
            "100%|██████████| 12/12 [00:00<00:00, 73.41it/s]\n"
          ]
        },
        {
          "name": "stdout",
          "output_type": "stream",
          "text": [
            "#### TRAINING: CP_focus_lr0.1_epochs500 LR: 0.1 epochs: 500 START###\n"
          ]
        },
        {
          "name": "stderr",
          "output_type": "stream",
          "text": [
            "100%|██████████| 5/5 [00:00<00:00, 10.47it/s]\n",
            "100%|██████████| 12/12 [00:04<00:00,  2.94it/s]\n"
          ]
        },
        {
          "name": "stdout",
          "output_type": "stream",
          "text": [
            "#### TRAINING: CP_focus_lr0.1_epochs500 LR: 0.1  empochs: 500END###\n",
            "#### VALIDATING: CP_focus_lr0.1_epochs500 LR: 0.1 empochs: 500START###\n"
          ]
        },
        {
          "name": "stderr",
          "output_type": "stream",
          "text": [
            "100%|██████████| 12/12 [00:00<00:00, 110.23it/s]\n",
            "100%|██████████| 12/12 [00:00<00:00, 104.53it/s]\n",
            "100%|██████████| 12/12 [00:00<00:00, 111.20it/s]\n",
            "100%|██████████| 12/12 [00:00<00:00, 103.81it/s]\n",
            "100%|██████████| 12/12 [00:00<00:00, 108.11it/s]\n",
            "100%|██████████| 12/12 [00:00<00:00, 111.37it/s]\n",
            "100%|██████████| 12/12 [00:00<00:00, 98.19it/s] \n",
            "100%|██████████| 12/12 [00:00<00:00, 115.85it/s]\n",
            "100%|██████████| 12/12 [00:00<00:00, 122.12it/s]\n"
          ]
        },
        {
          "name": "stdout",
          "output_type": "stream",
          "text": [
            "#### TRAINING: CP_focus_lr0.01_epochs10 LR: 0.01 epochs: 10 START###\n"
          ]
        },
        {
          "name": "stderr",
          "output_type": "stream",
          "text": [
            "100%|██████████| 5/5 [00:00<00:00, 13.90it/s]\n",
            "100%|██████████| 12/12 [00:03<00:00,  3.41it/s]\n"
          ]
        },
        {
          "name": "stdout",
          "output_type": "stream",
          "text": [
            "#### TRAINING: CP_focus_lr0.01_epochs10 LR: 0.01  empochs: 10END###\n",
            "#### VALIDATING: CP_focus_lr0.01_epochs10 LR: 0.01 empochs: 10START###\n"
          ]
        },
        {
          "name": "stderr",
          "output_type": "stream",
          "text": [
            "100%|██████████| 12/12 [00:00<00:00, 73.35it/s]\n",
            "100%|██████████| 12/12 [00:00<00:00, 75.00it/s]\n",
            "100%|██████████| 12/12 [00:00<00:00, 72.32it/s]\n",
            "100%|██████████| 12/12 [00:00<00:00, 71.85it/s]\n",
            "100%|██████████| 12/12 [00:00<00:00, 75.62it/s]\n",
            "100%|██████████| 12/12 [00:00<00:00, 76.84it/s]\n",
            "100%|██████████| 12/12 [00:00<00:00, 123.18it/s]\n",
            "100%|██████████| 12/12 [00:00<00:00, 123.10it/s]\n",
            "100%|██████████| 12/12 [00:00<00:00, 115.40it/s]\n"
          ]
        },
        {
          "name": "stdout",
          "output_type": "stream",
          "text": [
            "#### TRAINING: CP_focus_lr0.01_epochs100 LR: 0.01 epochs: 100 START###\n"
          ]
        },
        {
          "name": "stderr",
          "output_type": "stream",
          "text": [
            "100%|██████████| 5/5 [00:00<00:00, 14.33it/s]\n",
            "100%|██████████| 12/12 [00:03<00:00,  3.29it/s]\n"
          ]
        },
        {
          "name": "stdout",
          "output_type": "stream",
          "text": [
            "#### TRAINING: CP_focus_lr0.01_epochs100 LR: 0.01  empochs: 100END###\n",
            "#### VALIDATING: CP_focus_lr0.01_epochs100 LR: 0.01 empochs: 100START###\n"
          ]
        },
        {
          "name": "stderr",
          "output_type": "stream",
          "text": [
            "100%|██████████| 12/12 [00:00<00:00, 68.27it/s]\n",
            "100%|██████████| 12/12 [00:00<00:00, 67.25it/s]\n",
            "100%|██████████| 12/12 [00:00<00:00, 64.67it/s]\n",
            "100%|██████████| 12/12 [00:00<00:00, 68.74it/s]\n",
            "100%|██████████| 12/12 [00:00<00:00, 71.58it/s]\n",
            "100%|██████████| 12/12 [00:00<00:00, 65.97it/s]\n",
            "100%|██████████| 12/12 [00:00<00:00, 71.23it/s]\n",
            "100%|██████████| 12/12 [00:00<00:00, 70.30it/s]\n",
            "100%|██████████| 12/12 [00:00<00:00, 74.92it/s]\n"
          ]
        },
        {
          "name": "stdout",
          "output_type": "stream",
          "text": [
            "#### TRAINING: CP_focus_lr0.01_epochs250 LR: 0.01 epochs: 250 START###\n"
          ]
        },
        {
          "name": "stderr",
          "output_type": "stream",
          "text": [
            "100%|██████████| 5/5 [00:00<00:00,  9.76it/s]\n",
            "100%|██████████| 12/12 [00:03<00:00,  3.04it/s]\n"
          ]
        },
        {
          "name": "stdout",
          "output_type": "stream",
          "text": [
            "#### TRAINING: CP_focus_lr0.01_epochs250 LR: 0.01  empochs: 250END###\n",
            "#### VALIDATING: CP_focus_lr0.01_epochs250 LR: 0.01 empochs: 250START###\n"
          ]
        },
        {
          "name": "stderr",
          "output_type": "stream",
          "text": [
            "100%|██████████| 12/12 [00:00<00:00, 67.21it/s]\n",
            "100%|██████████| 12/12 [00:00<00:00, 71.26it/s]\n",
            "100%|██████████| 12/12 [00:00<00:00, 66.48it/s]\n",
            "100%|██████████| 12/12 [00:00<00:00, 70.14it/s]\n",
            "100%|██████████| 12/12 [00:00<00:00, 71.75it/s]\n",
            "100%|██████████| 12/12 [00:00<00:00, 67.99it/s]\n",
            "100%|██████████| 12/12 [00:00<00:00, 67.15it/s]\n",
            "100%|██████████| 12/12 [00:00<00:00, 64.01it/s]\n",
            "100%|██████████| 12/12 [00:00<00:00, 74.29it/s]\n"
          ]
        },
        {
          "name": "stdout",
          "output_type": "stream",
          "text": [
            "#### TRAINING: CP_focus_lr0.01_epochs500 LR: 0.01 epochs: 500 START###\n"
          ]
        },
        {
          "name": "stderr",
          "output_type": "stream",
          "text": [
            "100%|██████████| 5/5 [00:00<00:00, 10.01it/s]\n",
            "100%|██████████| 12/12 [00:03<00:00,  3.21it/s]\n"
          ]
        },
        {
          "name": "stdout",
          "output_type": "stream",
          "text": [
            "#### TRAINING: CP_focus_lr0.01_epochs500 LR: 0.01  empochs: 500END###\n",
            "#### VALIDATING: CP_focus_lr0.01_epochs500 LR: 0.01 empochs: 500START###\n"
          ]
        },
        {
          "name": "stderr",
          "output_type": "stream",
          "text": [
            "100%|██████████| 12/12 [00:00<00:00, 104.21it/s]\n",
            "100%|██████████| 12/12 [00:00<00:00, 111.79it/s]\n",
            "100%|██████████| 12/12 [00:00<00:00, 111.01it/s]\n",
            "100%|██████████| 12/12 [00:00<00:00, 103.34it/s]\n",
            "100%|██████████| 12/12 [00:00<00:00, 100.42it/s]\n",
            "100%|██████████| 12/12 [00:00<00:00, 102.24it/s]\n",
            "100%|██████████| 12/12 [00:00<00:00, 111.50it/s]\n",
            "100%|██████████| 12/12 [00:00<00:00, 114.64it/s]\n",
            "100%|██████████| 12/12 [00:00<00:00, 113.96it/s]\n"
          ]
        }
      ],
      "source": [
        "# these are the training images from human in the loop workflow\n",
        "train_dir = \"/content/drive/MyDrive/MLP2/traindataHIL\"\n",
        "test_dir = None\n",
        "# images to validate\n",
        "dir = \"/content/drive/MyDrive/MLP2/cp_validate_focus\"\n",
        "files = io.get_image_files(dir, '_mask')\n",
        "test_data = [io.imread(f) for f in files]\n",
        "maskdir = \"/content/drive/MyDrive/MLP2/cp_validate_focus_masks\"\n",
        "gtfiles = io.get_image_files(maskdir, '')\n",
        "print(gtfiles)\n",
        "test_labels = [io.imread(m) for m in gtfiles]\n",
        "#Define where the patch file will be saved\n",
        "base = \"/content\"\n",
        "\n",
        "# model name and path\n",
        "from cellpose import models\n",
        "from stardist.matching import matching, matching_dataset\n",
        "initial_base_model = \"cyto\"\n",
        "model_name = \"CP_tissuenet\"\n",
        "\n",
        "\n",
        "#Constant model params\n",
        "weight_decay = 0.0001\n",
        "channels =[0, 0]\n",
        "\n",
        "#Cross Validation parameters\n",
        "n_epochs =  [10, 100, 250, 500]\n",
        "learning_rates = [0.2, 0.1, 0.01]\n",
        "#this should change on every iter so we log information\n",
        "model_name = \"CP_tissuenet\"\n",
        "\n",
        "# start logger (to see training across epochs)/ need to manually parse the output -.-\n",
        "# as the logging happens within the training and there are no fn to retrieve this data\n",
        "logger = io.logger_setup() #CANT SEE RUNTIME TERMINAL !!\n",
        "\n",
        "# Initialize a list to store results\n",
        "results = []\n",
        "\n",
        "\n",
        "for l_r in learning_rates:\n",
        "  for n_e in n_epochs:\n",
        "    model_name = f\"CP_focus_lr{l_r}_epochs{n_e}\"\n",
        "    # get training files\n",
        "    output = io.load_train_test_data(train_dir, test_dir, mask_filter='_seg.npy')\n",
        "    train_data, train_labels, _, _, _, _ = output\n",
        "\n",
        "    #here we check that no model with the same name already exist, if so delete\n",
        "    model_path = train_dir + 'models/'\n",
        "    if os.path.exists(model_path+'/'+model_name):\n",
        "      print(\"!! WARNING: \"+model_name+\" already exists and will be deleted in the following cell !!\")\n",
        "    #now let's train!\n",
        "    #define initial base model - cyto\n",
        "    model = models.CellposeModel(gpu=use_GPU, model_type=initial_base_model)\n",
        "\n",
        "    print(f\"#### TRAINING: {model_name} LR: {l_r} epochs: {n_e} START###\")\n",
        "\n",
        "    #TRAIN!\n",
        "    new_model_path = model.train(train_data, train_labels,\n",
        "                              test_data=test_data,\n",
        "                              test_labels=test_labels,\n",
        "                              channels=channels,\n",
        "                              save_path=train_dir,\n",
        "                              n_epochs=n_e,\n",
        "                              learning_rate=l_r,\n",
        "                              weight_decay=weight_decay,\n",
        "                              nimg_per_epoch=8,\n",
        "                              model_name=model_name)\n",
        "\n",
        "\n",
        "    print(f\"#### TRAINING: {model_name} LR: {l_r}  empochs: {n_e}END###\")\n",
        "    print(f\"#### VALIDATING: {model_name} LR: {l_r} empochs: {n_e}START###\")\n",
        "\n",
        "    # get files (during training, test_data is transformed so we will load it again)\n",
        "    files = io.get_image_files(dir, '_mask')\n",
        "    test_data = [io.imread(f) for f in files]\n",
        "    gtfiles = io.get_image_files(maskdir, '')\n",
        "    test_labels = [io.imread(m) for m in gtfiles]\n",
        "    # diameter of labels in training images\n",
        "    diam_labels = model.diam_labels.copy()\n",
        "    # run model on test images\n",
        "    masks = model.eval(test_data,\n",
        "                      channels=channels,\n",
        "                      diameter=diam_labels)[0]\n",
        "\n",
        "    # evaluate model with ground truths and different taus/thresholds\n",
        "\n",
        "    # Evaluate the model using average_precision\n",
        "    taus = [0.1, 0.2, 0.3, 0.4, 0.5, 0.6, 0.7, 0.8, 0.9]\n",
        "    ap_values, tp, fp, fn = metrics.average_precision(test_labels, masks, threshold=taus)\n",
        "\n",
        "    # Evaluate the model using matching_dataset\n",
        "    all_stats = [matching_dataset(test_labels, masks, thresh=t, show_progress=False) for t in taus]\n",
        "\n",
        "    # Store the results for each threshold\n",
        "    for idx, t in enumerate(taus):\n",
        "        results.append({\n",
        "            'learning_rate': l_r,\n",
        "            'num_epochs': n_e,\n",
        "            'model_name': model_name,\n",
        "            'threshold': t,\n",
        "            'average_precision': ap_values[:, idx].mean(),\n",
        "            'true_positives': tp[:, idx].sum(),\n",
        "            'false_positives': fp[:, idx].sum(),\n",
        "            'false_negatives': fn[:, idx].sum(),\n",
        "            'precision': all_stats[idx].precision,\n",
        "            'recall': all_stats[idx].recall,\n",
        "            'f1': all_stats[idx].f1,\n",
        "            'n_true': all_stats[idx].n_true,\n",
        "            'n_pred': all_stats[idx].n_pred,\n",
        "            'mean_true_score': all_stats[idx].mean_true_score,\n",
        "            'mean_matched_score': all_stats[idx].mean_matched_score,\n",
        "            'panoptic_quality': all_stats[idx].panoptic_quality\n",
        "        })\n",
        "\n",
        "# Convert results to a DataFrame\n",
        "results_df = pd.DataFrame(results)\n",
        "\n",
        "# Save to CSV\n",
        "results_df.to_csv('model_evaluation_results.csv', index=False)\n"
      ]
    },
    {
      "cell_type": "code",
      "execution_count": null,
      "metadata": {
        "id": "NksyHk_BDnXI"
      },
      "outputs": [],
      "source": []
    }
  ],
  "metadata": {
    "accelerator": "GPU",
    "colab": {
      "gpuType": "T4",
      "provenance": []
    },
    "kernelspec": {
      "display_name": "Python 3",
      "name": "python3"
    },
    "language_info": {
      "name": "python"
    }
  },
  "nbformat": 4,
  "nbformat_minor": 0
}
