{
  "cells": [
    {
      "cell_type": "markdown",
      "metadata": {
        "id": "trGnri_MXvx4"
      },
      "source": [
        "Cellpose Training arena\n",
        "\n",
        "This notebook includes code to train models and collect data to crossvalidate across learning rate and epoch. Currently it outputs our selected Cellpose final model\n",
        "\n",
        "\n"
      ]
    },
    {
      "cell_type": "code",
      "execution_count": 17,
      "metadata": {
        "colab": {
          "base_uri": "https://localhost:8080/"
        },
        "id": "UrNY4PO1yBXA",
        "outputId": "1efb199f-0aa6-4fea-9032-5542bac5bed6"
      },
      "outputs": [
        {
          "name": "stdout",
          "output_type": "stream",
          "text": [
            "186277.18s - pydevd: Sending message related to process being replaced timed-out after 5 seconds\n",
            "Requirement already satisfied: opencv-python-headless<4.3 in /Users/Daniela/anaconda3/lib/python3.11/site-packages (3.4.18.65)\n",
            "Requirement already satisfied: numpy>=1.21.2 in /Users/Daniela/anaconda3/lib/python3.11/site-packages (from opencv-python-headless<4.3) (1.24.3)\n",
            "Note: you may need to restart the kernel to use updated packages.\n",
            "186284.47s - pydevd: Sending message related to process being replaced timed-out after 5 seconds\n",
            "Requirement already satisfied: cellpose in /Users/Daniela/anaconda3/lib/python3.11/site-packages (2.2.3)\n",
            "Requirement already satisfied: numpy>=1.20.0 in /Users/Daniela/anaconda3/lib/python3.11/site-packages (from cellpose) (1.24.3)\n",
            "Requirement already satisfied: scipy in /Users/Daniela/anaconda3/lib/python3.11/site-packages (from cellpose) (1.11.3)\n",
            "Requirement already satisfied: natsort in /Users/Daniela/anaconda3/lib/python3.11/site-packages (from cellpose) (8.4.0)\n",
            "Requirement already satisfied: tifffile in /Users/Daniela/anaconda3/lib/python3.11/site-packages (from cellpose) (2023.4.12)\n",
            "Requirement already satisfied: tqdm in /Users/Daniela/anaconda3/lib/python3.11/site-packages (from cellpose) (4.65.0)\n",
            "Requirement already satisfied: numba>=0.53.0 in /Users/Daniela/anaconda3/lib/python3.11/site-packages (from cellpose) (0.58.0)\n",
            "Requirement already satisfied: llvmlite in /Users/Daniela/anaconda3/lib/python3.11/site-packages (from cellpose) (0.41.0)\n",
            "Requirement already satisfied: torch>=1.6 in /Users/Daniela/anaconda3/lib/python3.11/site-packages (from cellpose) (2.0.1)\n",
            "Requirement already satisfied: opencv-python-headless in /Users/Daniela/anaconda3/lib/python3.11/site-packages (from cellpose) (3.4.18.65)\n",
            "Requirement already satisfied: fastremap in /Users/Daniela/anaconda3/lib/python3.11/site-packages (from cellpose) (1.14.0)\n",
            "Requirement already satisfied: imagecodecs in /Users/Daniela/anaconda3/lib/python3.11/site-packages (from cellpose) (2023.1.23)\n",
            "Requirement already satisfied: roifile in /Users/Daniela/anaconda3/lib/python3.11/site-packages (from cellpose) (2023.8.30)\n",
            "Requirement already satisfied: filelock in /Users/Daniela/anaconda3/lib/python3.11/site-packages (from torch>=1.6->cellpose) (3.9.0)\n",
            "Requirement already satisfied: typing-extensions in /Users/Daniela/anaconda3/lib/python3.11/site-packages (from torch>=1.6->cellpose) (4.7.1)\n",
            "Requirement already satisfied: sympy in /Users/Daniela/anaconda3/lib/python3.11/site-packages (from torch>=1.6->cellpose) (1.11.1)\n",
            "Requirement already satisfied: networkx in /Users/Daniela/anaconda3/lib/python3.11/site-packages (from torch>=1.6->cellpose) (3.1)\n",
            "Requirement already satisfied: jinja2 in /Users/Daniela/anaconda3/lib/python3.11/site-packages (from torch>=1.6->cellpose) (3.1.2)\n",
            "Requirement already satisfied: MarkupSafe>=2.0 in /Users/Daniela/anaconda3/lib/python3.11/site-packages (from jinja2->torch>=1.6->cellpose) (2.1.1)\n",
            "Requirement already satisfied: mpmath>=0.19 in /Users/Daniela/anaconda3/lib/python3.11/site-packages (from sympy->torch>=1.6->cellpose) (1.3.0)\n",
            "Note: you may need to restart the kernel to use updated packages.\n",
            "186291.42s - pydevd: Sending message related to process being replaced timed-out after 5 seconds\n",
            "Requirement already satisfied: stardist in /Users/Daniela/anaconda3/lib/python3.11/site-packages (0.8.5)\n",
            "Requirement already satisfied: csbdeep>=0.7.4 in /Users/Daniela/anaconda3/lib/python3.11/site-packages (from stardist) (0.7.4)\n",
            "Requirement already satisfied: scikit-image in /Users/Daniela/anaconda3/lib/python3.11/site-packages (from stardist) (0.20.0)\n",
            "Requirement already satisfied: numba in /Users/Daniela/anaconda3/lib/python3.11/site-packages (from stardist) (0.58.0)\n",
            "Requirement already satisfied: imageio in /Users/Daniela/anaconda3/lib/python3.11/site-packages (from stardist) (2.31.4)\n",
            "Requirement already satisfied: numpy in /Users/Daniela/anaconda3/lib/python3.11/site-packages (from csbdeep>=0.7.4->stardist) (1.24.3)\n",
            "Requirement already satisfied: scipy in /Users/Daniela/anaconda3/lib/python3.11/site-packages (from csbdeep>=0.7.4->stardist) (1.11.3)\n",
            "Requirement already satisfied: matplotlib in /Users/Daniela/anaconda3/lib/python3.11/site-packages (from csbdeep>=0.7.4->stardist) (3.7.2)\n",
            "Requirement already satisfied: six in /Users/Daniela/anaconda3/lib/python3.11/site-packages (from csbdeep>=0.7.4->stardist) (1.16.0)\n",
            "Requirement already satisfied: tifffile in /Users/Daniela/anaconda3/lib/python3.11/site-packages (from csbdeep>=0.7.4->stardist) (2023.4.12)\n",
            "Requirement already satisfied: tqdm in /Users/Daniela/anaconda3/lib/python3.11/site-packages (from csbdeep>=0.7.4->stardist) (4.65.0)\n",
            "Requirement already satisfied: packaging in /Users/Daniela/anaconda3/lib/python3.11/site-packages (from csbdeep>=0.7.4->stardist) (23.1)\n",
            "Requirement already satisfied: pillow>=8.3.2 in /Users/Daniela/anaconda3/lib/python3.11/site-packages (from imageio->stardist) (10.0.1)\n",
            "Requirement already satisfied: llvmlite<0.42,>=0.41.0dev0 in /Users/Daniela/anaconda3/lib/python3.11/site-packages (from numba->stardist) (0.41.0)\n",
            "Requirement already satisfied: networkx>=2.8 in /Users/Daniela/anaconda3/lib/python3.11/site-packages (from scikit-image->stardist) (3.1)\n",
            "Requirement already satisfied: PyWavelets>=1.1.1 in /Users/Daniela/anaconda3/lib/python3.11/site-packages (from scikit-image->stardist) (1.4.1)\n",
            "Requirement already satisfied: lazy_loader>=0.1 in /Users/Daniela/anaconda3/lib/python3.11/site-packages (from scikit-image->stardist) (0.3)\n",
            "Requirement already satisfied: contourpy>=1.0.1 in /Users/Daniela/anaconda3/lib/python3.11/site-packages (from matplotlib->csbdeep>=0.7.4->stardist) (1.0.5)\n",
            "Requirement already satisfied: cycler>=0.10 in /Users/Daniela/anaconda3/lib/python3.11/site-packages (from matplotlib->csbdeep>=0.7.4->stardist) (0.11.0)\n",
            "Requirement already satisfied: fonttools>=4.22.0 in /Users/Daniela/anaconda3/lib/python3.11/site-packages (from matplotlib->csbdeep>=0.7.4->stardist) (4.25.0)\n",
            "Requirement already satisfied: kiwisolver>=1.0.1 in /Users/Daniela/anaconda3/lib/python3.11/site-packages (from matplotlib->csbdeep>=0.7.4->stardist) (1.4.4)\n",
            "Requirement already satisfied: pyparsing<3.1,>=2.3.1 in /Users/Daniela/anaconda3/lib/python3.11/site-packages (from matplotlib->csbdeep>=0.7.4->stardist) (3.0.9)\n",
            "Requirement already satisfied: python-dateutil>=2.7 in /Users/Daniela/anaconda3/lib/python3.11/site-packages (from matplotlib->csbdeep>=0.7.4->stardist) (2.8.2)\n",
            "Note: you may need to restart the kernel to use updated packages.\n"
          ]
        }
      ],
      "source": [
        "%pip install \"opencv-python-headless<4.3\"\n",
        "%pip install cellpose\n"
      ]
    },
    {
      "cell_type": "markdown",
      "metadata": {},
      "source": [
        "If you run in colab you can check for the GPU being activated. \n",
        "You can also run without GPU but it is slighly slower.\n"
      ]
    },
    {
      "cell_type": "code",
      "execution_count": 18,
      "metadata": {
        "colab": {
          "base_uri": "https://localhost:8080/"
        },
        "id": "rQtvdFAyyGQr",
        "outputId": "e6a24948-e0d0-4555-9347-ea3081ee01de"
      },
      "outputs": [
        {
          "name": "stdout",
          "output_type": "stream",
          "text": [
            "186423.23s - pydevd: Sending message related to process being replaced timed-out after 5 seconds\n",
            "zsh:1: command not found: nvcc\n",
            "186428.38s - pydevd: Sending message related to process being replaced timed-out after 5 seconds\n",
            "zsh:1: command not found: nvidia-smi\n",
            "2023-12-19 21:01:30,227 [INFO] TORCH CUDA version not installed/working.\n",
            ">>> GPU activated? NO\n"
          ]
        }
      ],
      "source": [
        "!nvcc --version\n",
        "!nvidia-smi\n",
        "\n",
        "import os, shutil\n",
        "import numpy as np\n",
        "import matplotlib.pyplot as plt\n",
        "from cellpose import core, utils, io, models, metrics\n",
        "from glob import glob\n",
        "import pandas as pd\n",
        "\n",
        "# model name and path\n",
        "from cellpose import models\n",
        "from stardist.matching import matching, matching_dataset\n",
        "\n",
        "use_GPU = core.use_gpu()\n",
        "yn = ['NO', 'YES']\n",
        "print(f'>>> GPU activated? {yn[use_GPU]}')\n"
      ]
    },
    {
      "cell_type": "markdown",
      "metadata": {},
      "source": [
        "***NOTE ON TRAINING LOSS DATA***\n",
        "\n",
        "\n",
        "Initialize the logger to see training loss accross epochs. We parsed the logs manually as we had issue obtaining cellpose's run.log with the full cross validation metrics. The runtime logs are also not visible on Google Colab and there is not tensorboard support. You can find logs on our repo as mip_full_log.txt and focus_full_log.txt "
      ]
    },
    {
      "cell_type": "code",
      "execution_count": 22,
      "metadata": {
        "colab": {
          "base_uri": "https://localhost:8080/"
        },
        "id": "9hXfIUh3DVrO",
        "outputId": "af400f32-d023-419c-e58e-0e3462c4df88"
      },
      "outputs": [
        {
          "name": "stdout",
          "output_type": "stream",
          "text": [
            "['cellposetraining/mip_validate_mask/mip_1_0_0_mask.tif', 'cellposetraining/mip_validate_mask/mip_1_128_377_mask.tif', 'cellposetraining/mip_validate_mask/mip_2_0_0_mask.tif', 'cellposetraining/mip_validate_mask/mip_2_0_400_mask.tif', 'cellposetraining/mip_validate_mask/mip_2_400_0_mask.tif', 'cellposetraining/mip_validate_mask/mip_2_400_400_mask.tif', 'cellposetraining/mip_validate_mask/mip_2_800_0_mask.tif', 'cellposetraining/mip_validate_mask/mip_2_800_400_mask.tif']\n",
            "2023-12-20 16:37:38,775 [INFO] WRITING LOG OUTPUT TO /Users/Daniela/.cellpose/run.log\n",
            "2023-12-20 16:37:38,776 [INFO] \n",
            "cellpose version: \t2.2.3 \n",
            "platform:       \tdarwin \n",
            "python version: \t3.11.5 \n",
            "torch version:  \t2.0.1\n",
            "2023-12-20 16:37:38,779 [INFO] not all flows are present, running flow generation for all images\n",
            "2023-12-20 16:37:38,800 [INFO] 5 / 5 images in cellposetraining/traindataHIL_mip folder have labels\n",
            "2023-12-20 16:37:38,815 [INFO] >> cyto << model set to be used\n",
            "2023-12-20 16:37:38,816 [INFO] >>>> using CPU\n",
            "2023-12-20 16:37:38,816 [INFO] WARNING: MKL version on torch not working/installed - CPU version will be slightly slower.\n",
            "2023-12-20 16:37:38,817 [INFO] see https://pytorch.org/docs/stable/backends.html?highlight=mkl\n",
            "2023-12-20 16:37:38,915 [INFO] >>>> model diam_mean =  30.000 (ROIs rescaled to this size during training)\n",
            "#### TRAINING: CP_mip_final LR: 0.01 epochs: 90 START###\n",
            "2023-12-20 16:37:39,059 [INFO] computing flows for labels\n"
          ]
        },
        {
          "name": "stderr",
          "output_type": "stream",
          "text": [
            "100%|██████████| 5/5 [00:00<00:00, 18.91it/s]"
          ]
        },
        {
          "name": "stdout",
          "output_type": "stream",
          "text": [
            "2023-12-20 16:37:39,333 [INFO] computing flows for labels\n"
          ]
        },
        {
          "name": "stderr",
          "output_type": "stream",
          "text": [
            "\n",
            "100%|██████████| 8/8 [00:00<00:00, 13.13it/s]"
          ]
        },
        {
          "name": "stdout",
          "output_type": "stream",
          "text": [
            "2023-12-20 16:37:39,973 [INFO] >>>> median diameter set to = 30\n",
            "2023-12-20 16:37:39,973 [INFO] >>>> mean of training label mask diameters (saved to model) 23.659\n",
            "2023-12-20 16:37:39,974 [INFO] >>>> training network with 2 channel input <<<<\n",
            "2023-12-20 16:37:39,974 [INFO] >>>> LR: 0.01000, batch_size: 8, weight_decay: 0.00010\n",
            "2023-12-20 16:37:39,975 [INFO] >>>> ntrain = 5, ntest = 8\n",
            "2023-12-20 16:37:39,975 [INFO] >>>> nimg_per_epoch = 8\n"
          ]
        },
        {
          "name": "stderr",
          "output_type": "stream",
          "text": [
            "\n"
          ]
        },
        {
          "name": "stdout",
          "output_type": "stream",
          "text": [
            "2023-12-20 16:37:45,258 [INFO] Epoch 0, Time  5.3s, Loss 0.8118, Loss Test 0.8520, LR 0.0000\n",
            "2023-12-20 16:37:49,108 [INFO] saving network parameters to cellposetraining/traindataHIL_mip/models/CP_mip_final\n",
            "2023-12-20 16:38:04,785 [INFO] Epoch 5, Time 24.8s, Loss 0.6704, Loss Test 0.8178, LR 0.0056\n",
            "2023-12-20 16:38:23,449 [INFO] Epoch 10, Time 43.5s, Loss 0.4909, Loss Test 0.8187, LR 0.0100\n",
            "2023-12-20 16:39:01,452 [INFO] Epoch 20, Time 81.5s, Loss 0.4464, Loss Test 0.8343, LR 0.0100\n",
            "2023-12-20 16:39:37,183 [INFO] Epoch 30, Time 117.2s, Loss 0.4629, Loss Test 0.8423, LR 0.0100\n",
            "2023-12-20 16:40:12,779 [INFO] Epoch 40, Time 152.8s, Loss 0.3930, Loss Test 0.8436, LR 0.0100\n",
            "2023-12-20 16:40:48,598 [INFO] Epoch 50, Time 188.6s, Loss 0.3827, Loss Test 0.8280, LR 0.0100\n",
            "2023-12-20 16:41:25,366 [INFO] Epoch 60, Time 225.4s, Loss 0.4035, Loss Test 0.8180, LR 0.0100\n",
            "2023-12-20 16:42:01,913 [INFO] Epoch 70, Time 261.9s, Loss 0.3823, Loss Test 0.8145, LR 0.0100\n",
            "2023-12-20 16:42:36,291 [INFO] Epoch 80, Time 296.3s, Loss 0.3601, Loss Test 0.8047, LR 0.0100\n",
            "2023-12-20 16:43:08,613 [INFO] saving network parameters to cellposetraining/traindataHIL_mip/models/CP_mip_final\n",
            "#### TRAINING: CP_mip_final LR: 0.01  empochs: 90END###\n"
          ]
        }
      ],
      "source": [
        "# these are the training images from human in the loop workflow/ the folder should contain the image and the corresponding segmentation file\n",
        "# for example square_0.tif and square_0_seg.npy\n",
        "train_dir = \"cellposetraining/traindataHIL_mip\"\n",
        "test_dir = None\n",
        "# images to validate, our ground truth cut in 400x400 squares\n",
        "dir = \"cellposetraining/mip_validate\"\n",
        "files = io.get_image_files(dir, '_mask')\n",
        "test_data = [io.imread(f) for f in files]\n",
        "# our ground truth masks\n",
        "maskdir = \"cellposetraining/mip_validate_mask\"\n",
        "gtfiles = io.get_image_files(maskdir, '')\n",
        "test_labels = [io.imread(m) for m in gtfiles]\n",
        "\n",
        "#specify the base model we will train from\n",
        "initial_base_model = \"cyto\"\n",
        "#Default model param\n",
        "weight_decay = 0.0001\n",
        "#Channels for our grayscale images\n",
        "channels =[0, 0]\n",
        "\n",
        "#You can add more cross validation parameters for number of epochs and learning rate.\n",
        "# Make sure you update the name given to each model if you compute many models. Right now it will produce the best cellpose model we selected.\n",
        "\n",
        "n_epochs =  [90]\n",
        "learning_rates = [0.01]\n",
        "#place holder, see inside the loop for updates on model_name\n",
        "model_name = \"CP_tissuenet\"\n",
        "\n",
        "# start logger (to see training across epochs)/ need to manually parse the output -.-\n",
        "# as the logging happens within the training and there are no fn to retrieve this data\n",
        "logger = io.logger_setup() #CANT SEE RUNTIME TERMINAL ON COLAB, RUN LOCALLY TO GET TRAINING LOSSES !!\n",
        "\n",
        "\n",
        "for l_r in learning_rates:\n",
        "  for n_e in n_epochs:\n",
        "    # replace model_name with line below to costumize the model name if you are training various models with different learning rate and number of epochs\n",
        "    # model_name = f\"CP_mip_lr{l_r}_ep{n_e}\"\n",
        "    model_name = f\"CP_mip_final\"\n",
        "    # get training files\n",
        "    output = io.load_train_test_data(train_dir, test_dir, mask_filter='_seg.npy')\n",
        "    train_data, train_labels, _, _, _, _ = output\n",
        "\n",
        "    #reload test data on every iteration becasue they get modified during training\n",
        "    test_data = [io.imread(f) for f in files]\n",
        "    test_labels = [io.imread(m) for m in gtfiles]\n",
        "\n",
        "    #here we check that no model with the same name already exist, if so delete\n",
        "    model_path = train_dir + 'models/'\n",
        "    if os.path.exists(model_path+'/'+model_name):\n",
        "      print(\"!! WARNING: \"+model_name+\" already exists and will be deleted in the following call !!\")\n",
        "\n",
        "    # now let's train!\n",
        "    model = models.CellposeModel(gpu=use_GPU, model_type=initial_base_model)\n",
        "\n",
        "    print(f\"#### TRAINING: {model_name} LR: {l_r} epochs: {n_e} START###\")\n",
        "\n",
        "    #TRAIN!\n",
        "    new_model_path = model.train(train_data, train_labels,\n",
        "                              test_data=test_data,\n",
        "                              test_labels=test_labels,\n",
        "                              channels=channels,\n",
        "                              save_path=train_dir,\n",
        "                              n_epochs=n_e,\n",
        "                              learning_rate=l_r,\n",
        "                              weight_decay=weight_decay,\n",
        "                              nimg_per_epoch=8,\n",
        "                              model_name=model_name)\n",
        "\n",
        "\n",
        "    print(f\"#### TRAINING: {model_name} LR: {l_r}  empochs: {n_e} END###\")\n",
        "    \n",
        "\n"
      ]
    },
    {
      "cell_type": "code",
      "execution_count": null,
      "metadata": {
        "id": "NksyHk_BDnXI"
      },
      "outputs": [],
      "source": []
    }
  ],
  "metadata": {
    "accelerator": "GPU",
    "colab": {
      "gpuType": "T4",
      "provenance": []
    },
    "kernelspec": {
      "display_name": "Python 3",
      "name": "python3"
    },
    "language_info": {
      "codemirror_mode": {
        "name": "ipython",
        "version": 3
      },
      "file_extension": ".py",
      "mimetype": "text/x-python",
      "name": "python",
      "nbconvert_exporter": "python",
      "pygments_lexer": "ipython3",
      "version": "3.11.5"
    }
  },
  "nbformat": 4,
  "nbformat_minor": 0
}
