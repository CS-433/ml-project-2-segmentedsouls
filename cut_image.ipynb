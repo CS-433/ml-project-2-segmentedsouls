{
 "cells": [
  {
   "cell_type": "code",
   "execution_count": 18,
   "metadata": {},
   "outputs": [
    {
     "name": "stdout",
     "output_type": "stream",
     "text": [
      "265343.54s - pydevd: Sending message related to process being replaced timed-out after 5 seconds\n",
      "Requirement already satisfied: tifffile in /Users/Daniela/anaconda3/lib/python3.11/site-packages (2023.4.12)\n",
      "Requirement already satisfied: numpy in /Users/Daniela/anaconda3/lib/python3.11/site-packages (from tifffile) (1.24.3)\n",
      "Note: you may need to restart the kernel to use updated packages.\n"
     ]
    }
   ],
   "source": [
    "pip install tifffile"
   ]
  },
  {
   "cell_type": "code",
   "execution_count": 1,
   "metadata": {},
   "outputs": [],
   "source": [
    "import tifffile\n",
    "import os\n",
    "\n",
    "def cut_corresponding_squares(tiff_path_1, tiff_path_2, output_path):\n",
    "    # Open the TIFF images using tifffile\n",
    "    with tifffile.TiffFile(tiff_path_1) as tif1, tifffile.TiffFile(tiff_path_2) as tif2:\n",
    "        # Get the dimensions of the images\n",
    "        width, height = tif1.pages[0].shape\n",
    "\n",
    "        # Set the size of the squares\n",
    "        square_size = 400\n",
    "\n",
    "        # Create output directory if it doesn't exist\n",
    "        os.makedirs(output_path, exist_ok=True)\n",
    "        count = 0;\n",
    "        # Iterate over the images and save corresponding squares\n",
    "        for i in range(0, width, square_size):\n",
    "            for j in range(2000, height, square_size):\n",
    "                if count > 15: return\n",
    "                # Define the region to crop\n",
    "                box = (i, j, i + square_size, j + square_size)\n",
    "\n",
    "                # Crop the images using array slicing\n",
    "                square_tiff1 = tif1.pages[0].asarray()[box[0]:box[2], box[1]:box[3]]\n",
    "                square_tiff2 = tif2.pages[0].asarray()[box[0]:box[2], box[1]:box[3]]\n",
    "\n",
    "\n",
    "                # Save the cropped squares using tifffile\n",
    "                output_file_tiff1 = os.path.join(output_path, f\"focus_{i}_{j}.tif\")\n",
    "                output_file_tiff2 = os.path.join(output_path, f\"focus_{i}_{j}_seg.tif\")\n",
    "\n",
    "                tifffile.imwrite(output_file_tiff1, square_tiff1)\n",
    "                tifffile.imwrite(output_file_tiff2, square_tiff2)\n",
    "                count+=1\n",
    "\n",
    "# # Example usage\n",
    "# tiff_path_1 = \"path/to/your/image1.ome.tif\"\n",
    "# tiff_path_2 = \"path/to/your/image2.ome.tif\"\n",
    "# output_directory = \"path/to/your/output/directory\"\n",
    "\n",
    "# cut_corresponding_squares(tiff_path_1, tiff_path_2, output_directory)\n"
   ]
  },
  {
   "cell_type": "code",
   "execution_count": 11,
   "metadata": {},
   "outputs": [],
   "source": [
    "def cut_corresponding_squares2(tiff_path_1, tiff_path_2, output_path):\n",
    "    # Open the TIFF images using tifffile\n",
    "    with tifffile.TiffFile(tiff_path_1) as tif1, tifffile.TiffFile(tiff_path_2) as tif2:\n",
    "        # Get the dimensions of the images\n",
    "        width_1, height_1 = tif1.pages[0].shape\n",
    "        width_2, height_2 = tif2.pages[0].shape\n",
    "\n",
    "        # Ensure both images have the same dimensions\n",
    "        if width_1 != width_2 or height_1 != height_2:\n",
    "            raise ValueError(\"Input images must have the same dimensions.\")\n",
    "\n",
    "        # Set the size of the squares\n",
    "        square_size = 400\n",
    "\n",
    "        # Create output directory if it doesn't exist\n",
    "        os.makedirs(output_path, exist_ok=True)\n",
    "\n",
    "        # Iterate over the images and save corresponding squares\n",
    "        count = 0\n",
    "        for i in range(0, width_1, square_size):\n",
    "            for j in range(0, height_1, square_size):\n",
    "                # Define the region to crop\n",
    "                box = (i, j, i + square_size, j + square_size)\n",
    "\n",
    "                # Crop the images using array slicing\n",
    "                square_tiff1 = tif1.pages[0].asarray()[box[0]:box[2], box[1]:box[3]]\n",
    "                square_tiff2 = tif2.pages[0].asarray()[box[0]:box[2], box[1]:box[3]]\n",
    "\n",
    "                # Check if the square is completely inside the images\n",
    "                if square_tiff1.shape == (square_size, square_size) and square_tiff2.shape == (square_size, square_size):\n",
    "                    # Save the cropped squares using tifffile\n",
    "                    output_file_tiff1 = os.path.join(output_path, f\"focus_{i}_{j}.tif\")\n",
    "                    output_file_tiff2 = os.path.join(output_path, f\"focus_{i}_{j}_mask.tif\")\n",
    "\n",
    "                    tifffile.imwrite(output_file_tiff1, square_tiff1)\n",
    "                    tifffile.imwrite(output_file_tiff2, square_tiff2)"
   ]
  },
  {
   "cell_type": "code",
   "execution_count": 9,
   "metadata": {},
   "outputs": [],
   "source": [
    "def cut_corresponding_squares3(tiff_path_1, tiff_path_2, output_path, square_size=400):\n",
    "    # Open the TIFF images using tifffile\n",
    "    with tifffile.TiffFile(tiff_path_1) as tif1, tifffile.TiffFile(tiff_path_2) as tif2:\n",
    "        # Get the dimensions of the images\n",
    "        width_1, height_1 = tif1.pages[0].shape\n",
    "        width_2, height_2 = tif2.pages[0].shape\n",
    "\n",
    "        # Ensure both images have the same dimensions\n",
    "        if width_1 != width_2 or height_1 != height_2:\n",
    "            raise ValueError(\"Input images must have the same dimensions.\")\n",
    "\n",
    "        # Create output directory if it doesn't exist\n",
    "        os.makedirs(output_path, exist_ok=True)\n",
    "\n",
    "        # Iterate over the images and save corresponding squares starting from the bottom right corner\n",
    "        count = 0\n",
    "        for i in range(width_1 - square_size, -1, -square_size):\n",
    "            for j in range(height_1 - square_size, -1, -square_size):\n",
    "                # Define the region to crop\n",
    "                box = (max(0, i), max(0, j), min(width_1, i + square_size), min(height_1, j + square_size))\n",
    "\n",
    "                # Crop the images using array slicing\n",
    "                square_tiff1 = tif1.pages[0].asarray()[box[0]:box[2], box[1]:box[3]]\n",
    "                square_tiff2 = tif2.pages[0].asarray()[box[0]:box[2], box[1]:box[3]]\n",
    "\n",
    "                # Check if the square is completely inside the images\n",
    "                if square_tiff1.shape == (box[2] - box[0], box[3] - box[1]) and square_tiff2.shape == (box[2] - box[0], box[3] - box[1]):\n",
    "                    # Save the cropped squares using tifffile\n",
    "                    output_file_tiff1 = os.path.join(output_path, f\"mip1_{i}_{j}.tif\")\n",
    "                    output_file_tiff2 = os.path.join(output_path, f\"mip1_{i}_{j}_seg.tif\")\n",
    "\n",
    "                    tifffile.imwrite(output_file_tiff1, square_tiff1)\n",
    "                    tifffile.imwrite(output_file_tiff2, square_tiff2)\n",
    "                    count += 1"
   ]
  },
  {
   "cell_type": "code",
   "execution_count": 13,
   "metadata": {},
   "outputs": [
    {
     "name": "stdout",
     "output_type": "stream",
     "text": [
      "<module 'posixpath' (frozen)>\n"
     ]
    }
   ],
   "source": [
    "# tiff_path_focus = \"cuts/morphology_focus.ome.tif\"\n",
    "# tiff_path_mip = \"cuts/morphology_mip.ome.tif\"\n",
    "\n",
    "path_img = \"inputs/in1-sec.tif\"\n",
    "path_labels = \"masks/in1-sec_lab.tif\"\n",
    "\n",
    "output_directory = \"cp_validate_focus\"\n",
    "\n",
    "print(os.path)\n",
    "#cut_corresponding_squares(tiff_path_focus, tiff_path_mip, output_directory)\n",
    "cut_corresponding_squares2(path_img, path_labels, output_directory)"
   ]
  },
  {
   "cell_type": "code",
   "execution_count": null,
   "metadata": {},
   "outputs": [],
   "source": []
  }
 ],
 "metadata": {
  "kernelspec": {
   "display_name": "base",
   "language": "python",
   "name": "python3"
  },
  "language_info": {
   "codemirror_mode": {
    "name": "ipython",
    "version": 3
   },
   "file_extension": ".py",
   "mimetype": "text/x-python",
   "name": "python",
   "nbconvert_exporter": "python",
   "pygments_lexer": "ipython3",
   "version": "3.11.5"
  }
 },
 "nbformat": 4,
 "nbformat_minor": 2
}
