{
 "cells": [
  {
   "cell_type": "code",
   "execution_count": 2,
   "metadata": {},
   "outputs": [
    {
     "name": "stdout",
     "output_type": "stream",
     "text": [
      "OpenSSL 1.1.1s  1 Nov 2022\n"
     ]
    }
   ],
   "source": [
    "import ssl\n",
    "print(ssl.OPENSSL_VERSION)"
   ]
  },
  {
   "cell_type": "code",
   "execution_count": 3,
   "metadata": {},
   "outputs": [
    {
     "name": "stdout",
     "output_type": "stream",
     "text": [
      "Requirement already satisfied: pip in c:\\users\\roman\\anaconda3\\lib\\site-packages (21.0.1)\n",
      "Could not fetch URL https://pypi.org/simple/pip/: There was a problem confirming the ssl certificate: HTTPSConnectionPool(host='pypi.org', port=443): Max retries exceeded with url: /simple/pip/ (Caused by SSLError(\"Can't connect to HTTPS URL because the SSL module is not available.\")) - skipping\n",
      "Could not fetch URL https://pypi.org/simple/pip/: There was a problem confirming the ssl certificate: HTTPSConnectionPool(host='pypi.org', port=443): Max retries exceeded with url: /simple/pip/ (Caused by SSLError(\"Can't connect to HTTPS URL because the SSL module is not available.\")) - skipping\n"
     ]
    },
    {
     "name": "stderr",
     "output_type": "stream",
     "text": [
      "WARNING: pip is configured with locations that require TLS/SSL, however the ssl module in Python is not available.\n",
      "WARNING: Retrying (Retry(total=4, connect=None, read=None, redirect=None, status=None)) after connection broken by 'SSLError(\"Can't connect to HTTPS URL because the SSL module is not available.\")': /simple/pip/\n",
      "WARNING: Retrying (Retry(total=3, connect=None, read=None, redirect=None, status=None)) after connection broken by 'SSLError(\"Can't connect to HTTPS URL because the SSL module is not available.\")': /simple/pip/\n",
      "WARNING: Retrying (Retry(total=2, connect=None, read=None, redirect=None, status=None)) after connection broken by 'SSLError(\"Can't connect to HTTPS URL because the SSL module is not available.\")': /simple/pip/\n",
      "WARNING: Retrying (Retry(total=1, connect=None, read=None, redirect=None, status=None)) after connection broken by 'SSLError(\"Can't connect to HTTPS URL because the SSL module is not available.\")': /simple/pip/\n",
      "WARNING: Retrying (Retry(total=0, connect=None, read=None, redirect=None, status=None)) after connection broken by 'SSLError(\"Can't connect to HTTPS URL because the SSL module is not available.\")': /simple/pip/\n",
      "WARNING: pip is configured with locations that require TLS/SSL, however the ssl module in Python is not available.\n"
     ]
    }
   ],
   "source": [
    "!pip install --upgrade pip"
   ]
  },
  {
   "cell_type": "code",
   "execution_count": 4,
   "metadata": {},
   "outputs": [
    {
     "name": "stdout",
     "output_type": "stream",
     "text": [
      "Requirement already satisfied: stardist in c:\\users\\roman\\appdata\\local\\programs\\python\\python311\\lib\\site-packages (0.8.5)\n",
      "Requirement already satisfied: csbdeep>=0.7.4 in c:\\users\\roman\\appdata\\local\\programs\\python\\python311\\lib\\site-packages (from stardist) (0.7.4)\n",
      "Requirement already satisfied: scikit-image in c:\\users\\roman\\appdata\\local\\programs\\python\\python311\\lib\\site-packages (from stardist) (0.22.0)\n",
      "Requirement already satisfied: numba in c:\\users\\roman\\appdata\\local\\programs\\python\\python311\\lib\\site-packages (from stardist) (0.58.1)\n",
      "Requirement already satisfied: imageio in c:\\users\\roman\\appdata\\local\\programs\\python\\python311\\lib\\site-packages (from stardist) (2.33.0)\n",
      "Requirement already satisfied: numpy in c:\\users\\roman\\appdata\\local\\programs\\python\\python311\\lib\\site-packages (from csbdeep>=0.7.4->stardist) (1.26.1)\n",
      "Requirement already satisfied: scipy in c:\\users\\roman\\appdata\\local\\programs\\python\\python311\\lib\\site-packages (from csbdeep>=0.7.4->stardist) (1.11.4)\n",
      "Requirement already satisfied: matplotlib in c:\\users\\roman\\appdata\\local\\programs\\python\\python311\\lib\\site-packages (from csbdeep>=0.7.4->stardist) (3.8.0)\n",
      "Requirement already satisfied: six in c:\\users\\roman\\appdata\\local\\programs\\python\\python311\\lib\\site-packages (from csbdeep>=0.7.4->stardist) (1.16.0)\n",
      "Requirement already satisfied: tifffile in c:\\users\\roman\\appdata\\local\\programs\\python\\python311\\lib\\site-packages (from csbdeep>=0.7.4->stardist) (2023.9.26)\n",
      "Requirement already satisfied: tqdm in c:\\users\\roman\\appdata\\local\\programs\\python\\python311\\lib\\site-packages (from csbdeep>=0.7.4->stardist) (4.66.1)\n",
      "Requirement already satisfied: packaging in c:\\users\\roman\\appdata\\local\\programs\\python\\python311\\lib\\site-packages (from csbdeep>=0.7.4->stardist) (23.2)\n",
      "Requirement already satisfied: pillow>=8.3.2 in c:\\users\\roman\\appdata\\local\\programs\\python\\python311\\lib\\site-packages (from imageio->stardist) (10.1.0)\n",
      "Requirement already satisfied: llvmlite<0.42,>=0.41.0dev0 in c:\\users\\roman\\appdata\\local\\programs\\python\\python311\\lib\\site-packages (from numba->stardist) (0.41.1)\n",
      "Requirement already satisfied: networkx>=2.8 in c:\\users\\roman\\appdata\\local\\programs\\python\\python311\\lib\\site-packages (from scikit-image->stardist) (3.2.1)\n",
      "Requirement already satisfied: lazy_loader>=0.3 in c:\\users\\roman\\appdata\\local\\programs\\python\\python311\\lib\\site-packages (from scikit-image->stardist) (0.3)\n",
      "Requirement already satisfied: contourpy>=1.0.1 in c:\\users\\roman\\appdata\\local\\programs\\python\\python311\\lib\\site-packages (from matplotlib->csbdeep>=0.7.4->stardist) (1.1.1)\n",
      "Requirement already satisfied: cycler>=0.10 in c:\\users\\roman\\appdata\\local\\programs\\python\\python311\\lib\\site-packages (from matplotlib->csbdeep>=0.7.4->stardist) (0.12.1)\n",
      "Requirement already satisfied: fonttools>=4.22.0 in c:\\users\\roman\\appdata\\local\\programs\\python\\python311\\lib\\site-packages (from matplotlib->csbdeep>=0.7.4->stardist) (4.43.1)\n",
      "Requirement already satisfied: kiwisolver>=1.0.1 in c:\\users\\roman\\appdata\\local\\programs\\python\\python311\\lib\\site-packages (from matplotlib->csbdeep>=0.7.4->stardist) (1.4.5)\n",
      "Requirement already satisfied: pyparsing>=2.3.1 in c:\\users\\roman\\appdata\\local\\programs\\python\\python311\\lib\\site-packages (from matplotlib->csbdeep>=0.7.4->stardist) (3.1.1)\n",
      "Requirement already satisfied: python-dateutil>=2.7 in c:\\users\\roman\\appdata\\local\\programs\\python\\python311\\lib\\site-packages (from matplotlib->csbdeep>=0.7.4->stardist) (2.8.2)\n",
      "Requirement already satisfied: colorama in c:\\users\\roman\\appdata\\roaming\\python\\python311\\site-packages (from tqdm->csbdeep>=0.7.4->stardist) (0.4.6)\n",
      "Note: you may need to restart the kernel to use updated packages.\n"
     ]
    },
    {
     "name": "stderr",
     "output_type": "stream",
     "text": [
      "\n",
      "[notice] A new release of pip available: 22.3.1 -> 23.3.1\n",
      "[notice] To update, run: python.exe -m pip install --upgrade pip\n"
     ]
    }
   ],
   "source": [
    "pip install stardist"
   ]
  },
  {
   "cell_type": "code",
   "execution_count": 5,
   "metadata": {},
   "outputs": [
    {
     "name": "stdout",
     "output_type": "stream",
     "text": [
      "Requirement already satisfied: tensorflow in c:\\users\\roman\\appdata\\local\\programs\\python\\python311\\lib\\site-packages (2.15.0)\n",
      "Requirement already satisfied: tensorflow-intel==2.15.0 in c:\\users\\roman\\appdata\\local\\programs\\python\\python311\\lib\\site-packages (from tensorflow) (2.15.0)\n",
      "Requirement already satisfied: absl-py>=1.0.0 in c:\\users\\roman\\appdata\\local\\programs\\python\\python311\\lib\\site-packages (from tensorflow-intel==2.15.0->tensorflow) (2.0.0)\n",
      "Requirement already satisfied: astunparse>=1.6.0 in c:\\users\\roman\\appdata\\local\\programs\\python\\python311\\lib\\site-packages (from tensorflow-intel==2.15.0->tensorflow) (1.6.3)\n",
      "Requirement already satisfied: flatbuffers>=23.5.26 in c:\\users\\roman\\appdata\\local\\programs\\python\\python311\\lib\\site-packages (from tensorflow-intel==2.15.0->tensorflow) (23.5.26)\n",
      "Requirement already satisfied: gast!=0.5.0,!=0.5.1,!=0.5.2,>=0.2.1 in c:\\users\\roman\\appdata\\local\\programs\\python\\python311\\lib\\site-packages (from tensorflow-intel==2.15.0->tensorflow) (0.5.4)\n",
      "Requirement already satisfied: google-pasta>=0.1.1 in c:\\users\\roman\\appdata\\local\\programs\\python\\python311\\lib\\site-packages (from tensorflow-intel==2.15.0->tensorflow) (0.2.0)\n",
      "Requirement already satisfied: h5py>=2.9.0 in c:\\users\\roman\\appdata\\local\\programs\\python\\python311\\lib\\site-packages (from tensorflow-intel==2.15.0->tensorflow) (3.10.0)\n",
      "Requirement already satisfied: libclang>=13.0.0 in c:\\users\\roman\\appdata\\local\\programs\\python\\python311\\lib\\site-packages (from tensorflow-intel==2.15.0->tensorflow) (16.0.6)\n",
      "Requirement already satisfied: ml-dtypes~=0.2.0 in c:\\users\\roman\\appdata\\local\\programs\\python\\python311\\lib\\site-packages (from tensorflow-intel==2.15.0->tensorflow) (0.2.0)\n",
      "Requirement already satisfied: numpy<2.0.0,>=1.23.5 in c:\\users\\roman\\appdata\\local\\programs\\python\\python311\\lib\\site-packages (from tensorflow-intel==2.15.0->tensorflow) (1.26.1)\n",
      "Requirement already satisfied: opt-einsum>=2.3.2 in c:\\users\\roman\\appdata\\local\\programs\\python\\python311\\lib\\site-packages (from tensorflow-intel==2.15.0->tensorflow) (3.3.0)\n",
      "Requirement already satisfied: packaging in c:\\users\\roman\\appdata\\local\\programs\\python\\python311\\lib\\site-packages (from tensorflow-intel==2.15.0->tensorflow) (23.2)\n",
      "Requirement already satisfied: protobuf!=4.21.0,!=4.21.1,!=4.21.2,!=4.21.3,!=4.21.4,!=4.21.5,<5.0.0dev,>=3.20.3 in c:\\users\\roman\\appdata\\local\\programs\\python\\python311\\lib\\site-packages (from tensorflow-intel==2.15.0->tensorflow) (4.23.4)\n",
      "Requirement already satisfied: setuptools in c:\\users\\roman\\appdata\\local\\programs\\python\\python311\\lib\\site-packages (from tensorflow-intel==2.15.0->tensorflow) (65.5.0)\n",
      "Requirement already satisfied: six>=1.12.0 in c:\\users\\roman\\appdata\\local\\programs\\python\\python311\\lib\\site-packages (from tensorflow-intel==2.15.0->tensorflow) (1.16.0)\n",
      "Requirement already satisfied: termcolor>=1.1.0 in c:\\users\\roman\\appdata\\local\\programs\\python\\python311\\lib\\site-packages (from tensorflow-intel==2.15.0->tensorflow) (2.4.0)\n",
      "Requirement already satisfied: typing-extensions>=3.6.6 in c:\\users\\roman\\appdata\\local\\programs\\python\\python311\\lib\\site-packages (from tensorflow-intel==2.15.0->tensorflow) (4.8.0)\n",
      "Requirement already satisfied: wrapt<1.15,>=1.11.0 in c:\\users\\roman\\appdata\\local\\programs\\python\\python311\\lib\\site-packages (from tensorflow-intel==2.15.0->tensorflow) (1.14.1)\n",
      "Requirement already satisfied: tensorflow-io-gcs-filesystem>=0.23.1 in c:\\users\\roman\\appdata\\local\\programs\\python\\python311\\lib\\site-packages (from tensorflow-intel==2.15.0->tensorflow) (0.31.0)\n",
      "Requirement already satisfied: grpcio<2.0,>=1.24.3 in c:\\users\\roman\\appdata\\local\\programs\\python\\python311\\lib\\site-packages (from tensorflow-intel==2.15.0->tensorflow) (1.59.3)\n",
      "Requirement already satisfied: tensorboard<2.16,>=2.15 in c:\\users\\roman\\appdata\\local\\programs\\python\\python311\\lib\\site-packages (from tensorflow-intel==2.15.0->tensorflow) (2.15.1)\n",
      "Requirement already satisfied: tensorflow-estimator<2.16,>=2.15.0 in c:\\users\\roman\\appdata\\local\\programs\\python\\python311\\lib\\site-packages (from tensorflow-intel==2.15.0->tensorflow) (2.15.0)\n",
      "Requirement already satisfied: keras<2.16,>=2.15.0 in c:\\users\\roman\\appdata\\local\\programs\\python\\python311\\lib\\site-packages (from tensorflow-intel==2.15.0->tensorflow) (2.15.0)\n",
      "Requirement already satisfied: wheel<1.0,>=0.23.0 in c:\\users\\roman\\appdata\\local\\programs\\python\\python311\\lib\\site-packages (from astunparse>=1.6.0->tensorflow-intel==2.15.0->tensorflow) (0.42.0)\n",
      "Requirement already satisfied: google-auth<3,>=1.6.3 in c:\\users\\roman\\appdata\\local\\programs\\python\\python311\\lib\\site-packages (from tensorboard<2.16,>=2.15->tensorflow-intel==2.15.0->tensorflow) (2.24.0)\n",
      "Requirement already satisfied: google-auth-oauthlib<2,>=0.5 in c:\\users\\roman\\appdata\\local\\programs\\python\\python311\\lib\\site-packages (from tensorboard<2.16,>=2.15->tensorflow-intel==2.15.0->tensorflow) (1.1.0)\n",
      "Requirement already satisfied: markdown>=2.6.8 in c:\\users\\roman\\appdata\\local\\programs\\python\\python311\\lib\\site-packages (from tensorboard<2.16,>=2.15->tensorflow-intel==2.15.0->tensorflow) (3.5.1)\n",
      "Requirement already satisfied: requests<3,>=2.21.0 in c:\\users\\roman\\appdata\\local\\programs\\python\\python311\\lib\\site-packages (from tensorboard<2.16,>=2.15->tensorflow-intel==2.15.0->tensorflow) (2.31.0)\n",
      "Requirement already satisfied: tensorboard-data-server<0.8.0,>=0.7.0 in c:\\users\\roman\\appdata\\local\\programs\\python\\python311\\lib\\site-packages (from tensorboard<2.16,>=2.15->tensorflow-intel==2.15.0->tensorflow) (0.7.2)\n",
      "Requirement already satisfied: werkzeug>=1.0.1 in c:\\users\\roman\\appdata\\local\\programs\\python\\python311\\lib\\site-packages (from tensorboard<2.16,>=2.15->tensorflow-intel==2.15.0->tensorflow) (3.0.1)\n",
      "Requirement already satisfied: cachetools<6.0,>=2.0.0 in c:\\users\\roman\\appdata\\local\\programs\\python\\python311\\lib\\site-packages (from google-auth<3,>=1.6.3->tensorboard<2.16,>=2.15->tensorflow-intel==2.15.0->tensorflow) (5.3.2)\n",
      "Requirement already satisfied: pyasn1-modules>=0.2.1 in c:\\users\\roman\\appdata\\local\\programs\\python\\python311\\lib\\site-packages (from google-auth<3,>=1.6.3->tensorboard<2.16,>=2.15->tensorflow-intel==2.15.0->tensorflow) (0.3.0)\n",
      "Requirement already satisfied: rsa<5,>=3.1.4 in c:\\users\\roman\\appdata\\local\\programs\\python\\python311\\lib\\site-packages (from google-auth<3,>=1.6.3->tensorboard<2.16,>=2.15->tensorflow-intel==2.15.0->tensorflow) (4.9)\n",
      "Requirement already satisfied: requests-oauthlib>=0.7.0 in c:\\users\\roman\\appdata\\local\\programs\\python\\python311\\lib\\site-packages (from google-auth-oauthlib<2,>=0.5->tensorboard<2.16,>=2.15->tensorflow-intel==2.15.0->tensorflow) (1.3.1)\n",
      "Requirement already satisfied: charset-normalizer<4,>=2 in c:\\users\\roman\\appdata\\local\\programs\\python\\python311\\lib\\site-packages (from requests<3,>=2.21.0->tensorboard<2.16,>=2.15->tensorflow-intel==2.15.0->tensorflow) (3.3.2)\n",
      "Requirement already satisfied: idna<4,>=2.5 in c:\\users\\roman\\appdata\\local\\programs\\python\\python311\\lib\\site-packages (from requests<3,>=2.21.0->tensorboard<2.16,>=2.15->tensorflow-intel==2.15.0->tensorflow) (3.6)\n",
      "Requirement already satisfied: urllib3<3,>=1.21.1 in c:\\users\\roman\\appdata\\local\\programs\\python\\python311\\lib\\site-packages (from requests<3,>=2.21.0->tensorboard<2.16,>=2.15->tensorflow-intel==2.15.0->tensorflow) (2.1.0)\n",
      "Requirement already satisfied: certifi>=2017.4.17 in c:\\users\\roman\\appdata\\local\\programs\\python\\python311\\lib\\site-packages (from requests<3,>=2.21.0->tensorboard<2.16,>=2.15->tensorflow-intel==2.15.0->tensorflow) (2023.11.17)\n",
      "Requirement already satisfied: MarkupSafe>=2.1.1 in c:\\users\\roman\\appdata\\local\\programs\\python\\python311\\lib\\site-packages (from werkzeug>=1.0.1->tensorboard<2.16,>=2.15->tensorflow-intel==2.15.0->tensorflow) (2.1.3)\n",
      "Requirement already satisfied: pyasn1<0.6.0,>=0.4.6 in c:\\users\\roman\\appdata\\local\\programs\\python\\python311\\lib\\site-packages (from pyasn1-modules>=0.2.1->google-auth<3,>=1.6.3->tensorboard<2.16,>=2.15->tensorflow-intel==2.15.0->tensorflow) (0.5.1)\n",
      "Requirement already satisfied: oauthlib>=3.0.0 in c:\\users\\roman\\appdata\\local\\programs\\python\\python311\\lib\\site-packages (from requests-oauthlib>=0.7.0->google-auth-oauthlib<2,>=0.5->tensorboard<2.16,>=2.15->tensorflow-intel==2.15.0->tensorflow) (3.2.2)\n",
      "Note: you may need to restart the kernel to use updated packages.\n"
     ]
    },
    {
     "name": "stderr",
     "output_type": "stream",
     "text": [
      "\n",
      "[notice] A new release of pip available: 22.3.1 -> 23.3.1\n",
      "[notice] To update, run: python.exe -m pip install --upgrade pip\n"
     ]
    }
   ],
   "source": [
    "pip install tensorflow"
   ]
  },
  {
   "cell_type": "code",
   "execution_count": 3,
   "metadata": {},
   "outputs": [
    {
     "name": "stdout",
     "output_type": "stream",
     "text": [
      "WARNING:tensorflow:From c:\\Users\\roman\\AppData\\Local\\Programs\\Python\\Python311\\Lib\\site-packages\\keras\\src\\losses.py:2976: The name tf.losses.sparse_softmax_cross_entropy is deprecated. Please use tf.compat.v1.losses.sparse_softmax_cross_entropy instead.\n",
      "\n",
      "There are 4 registered models for 'StarDist2D':\n",
      "\n",
      "Name                  Alias(es)\n",
      "────                  ─────────\n",
      "'2D_versatile_fluo'   'Versatile (fluorescent nuclei)'\n",
      "'2D_versatile_he'     'Versatile (H&E nuclei)'\n",
      "'2D_paper_dsb2018'    'DSB 2018 (from StarDist 2D paper)'\n",
      "'2D_demo'             None\n",
      "Found model '2D_versatile_fluo' for 'StarDist2D'.\n",
      "WARNING:tensorflow:From c:\\Users\\roman\\AppData\\Local\\Programs\\Python\\Python311\\Lib\\site-packages\\keras\\src\\backend.py:1398: The name tf.executing_eagerly_outside_functions is deprecated. Please use tf.compat.v1.executing_eagerly_outside_functions instead.\n",
      "\n",
      "WARNING:tensorflow:From c:\\Users\\roman\\AppData\\Local\\Programs\\Python\\Python311\\Lib\\site-packages\\keras\\src\\layers\\pooling\\max_pooling2d.py:161: The name tf.nn.max_pool is deprecated. Please use tf.nn.max_pool2d instead.\n",
      "\n",
      "Loading network weights from 'weights_best.h5'.\n",
      "Loading thresholds from 'thresholds.json'.\n",
      "Using default values: prob_thresh=0.479071, nms_thresh=0.3.\n"
     ]
    }
   ],
   "source": [
    "from stardist.models import StarDist2D\n",
    "\n",
    "# prints a list of available models\n",
    "StarDist2D.from_pretrained()\n",
    "\n",
    "# creates a pretrained model\n",
    "model = StarDist2D.from_pretrained('2D_versatile_fluo')"
   ]
  },
  {
   "cell_type": "code",
   "execution_count": 4,
   "metadata": {},
   "outputs": [],
   "source": [
    "from __future__ import print_function, unicode_literals, absolute_import, division\n",
    "import sys\n",
    "import numpy as np\n",
    "import matplotlib\n",
    "#matplotlib.rcParams[\"image.interpolation\"] = None\n",
    "import matplotlib.pyplot as plt\n",
    "\n",
    "\n",
    "from glob import glob\n",
    "from tqdm import tqdm\n",
    "from tifffile import imread\n",
    "from csbdeep.utils import Path, normalize\n",
    "\n",
    "from stardist import fill_label_holes, random_label_cmap, calculate_extents, gputools_available\n",
    "from stardist.matching import matching, matching_dataset\n",
    "from stardist.models import Config2D, StarDist2D, StarDistData2D"
   ]
  },
  {
   "cell_type": "code",
   "execution_count": 5,
   "metadata": {},
   "outputs": [
    {
     "name": "stdout",
     "output_type": "stream",
     "text": [
      "There are 4 registered models for 'StarDist2D':\n",
      "\n",
      "Name                  Alias(es)\n",
      "────                  ─────────\n",
      "'2D_versatile_fluo'   'Versatile (fluorescent nuclei)'\n",
      "'2D_versatile_he'     'Versatile (H&E nuclei)'\n",
      "'2D_paper_dsb2018'    'DSB 2018 (from StarDist 2D paper)'\n",
      "'2D_demo'             None\n",
      "Found model '2D_versatile_fluo' for 'StarDist2D'.\n",
      "Loading network weights from 'weights_best.h5'.\n",
      "Loading thresholds from 'thresholds.json'.\n",
      "Using default values: prob_thresh=0.479071, nms_thresh=0.3.\n"
     ]
    }
   ],
   "source": [
    "from stardist.models import StarDist2D\n",
    "\n",
    "# prints a list of available models\n",
    "StarDist2D.from_pretrained()\n",
    "\n",
    "# creates a pretrained model\n",
    "model = StarDist2D.from_pretrained('2D_versatile_fluo')"
   ]
  },
  {
   "cell_type": "code",
   "execution_count": 6,
   "metadata": {},
   "outputs": [],
   "source": [
    "from stardist.data import test_image_nuclei_2d\n",
    "from stardist.plot import render_label\n",
    "from csbdeep.utils import normalize\n",
    "import matplotlib.pyplot as plt\n",
    "\n",
    "img = sorted(glob('input_image_small_part.tif'))\n",
    "img_lab = sorted(glob('input_image_small_part_ground_truth.tif'))\n",
    "\n"
   ]
  },
  {
   "cell_type": "code",
   "execution_count": 126,
   "metadata": {},
   "outputs": [],
   "source": [
    "img= list(map(imread,img))\n",
    "img_lab= list(map(imread,img_lab))"
   ]
  },
  {
   "cell_type": "code",
   "execution_count": 128,
   "metadata": {},
   "outputs": [],
   "source": [
    "#Random color map labels\n",
    "np.random.seed(42)\n",
    "lbl_cmap = random_label_cmap()\n",
    "     \n"
   ]
  },
  {
   "cell_type": "code",
   "execution_count": 145,
   "metadata": {},
   "outputs": [],
   "source": [
    "\n",
    "\n",
    "import numpy as np\n",
    "def slice_numpy_array(image_array):\n",
    "    # Get the shape of the original array\n",
    "    height, width = image_array.shape\n",
    "\n",
    "    # Ensure that both dimensions are divisible by 16\n",
    "    new_height = height - (height % 16)\n",
    "    new_width = width - (width % 16)\n",
    "    image_array = image_array[:new_height, :new_width]\n",
    "\n",
    "    # Calculate the dimensions of each slice\n",
    "    slice_height = new_height // 3\n",
    "    slice_width = new_width // 3\n",
    "\n",
    "    # List to store the sliced arrays\n",
    "    sliced_arrays = []\n",
    "\n",
    "    # Loop through each row and column to slice the array\n",
    "    for row in range(3):\n",
    "        for col in range(3):\n",
    "            upper = row * slice_height\n",
    "            left = col * slice_width\n",
    "            lower = upper + slice_height\n",
    "            right = left + slice_width\n",
    "\n",
    "            # Ensure that both dimensions of the subarray are divisible by 16\n",
    "            subarray = image_array[upper:lower, left:right]\n",
    "            subarray_height, subarray_width = subarray.shape\n",
    "            subarray = subarray[:subarray_height - (subarray_height % 16), :subarray_width - (subarray_width % 16)]\n",
    "\n",
    "            # Append the subarray to the list\n",
    "            sliced_arrays.append(subarray)\n",
    "\n",
    "            # Do something with the subarray (in this case, just displaying its shape)\n",
    "            print(f\"Subarray at row {row + 1}, column {col + 1}: {subarray.shape}\")\n",
    "\n",
    "    return sliced_arrays"
   ]
  },
  {
   "cell_type": "code",
   "execution_count": 131,
   "metadata": {},
   "outputs": [
    {
     "name": "stdout",
     "output_type": "stream",
     "text": [
      "(1, 528, 777)\n",
      "(1, 528, 777)\n",
      "(528, 777)\n"
     ]
    }
   ],
   "source": [
    "print(np.shape(img))\n",
    "print(np.shape(img_lab))\n",
    "\n",
    "print(np.shape(img_lab[0]))"
   ]
  },
  {
   "cell_type": "code",
   "execution_count": 132,
   "metadata": {},
   "outputs": [
    {
     "name": "stdout",
     "output_type": "stream",
     "text": [
      "Subarray at row 1, column 1: (176, 256)\n",
      "Subarray at row 1, column 2: (176, 256)\n",
      "Subarray at row 1, column 3: (176, 256)\n",
      "Subarray at row 2, column 1: (176, 256)\n",
      "Subarray at row 2, column 2: (176, 256)\n",
      "Subarray at row 2, column 3: (176, 256)\n",
      "Subarray at row 3, column 1: (176, 256)\n",
      "Subarray at row 3, column 2: (176, 256)\n",
      "Subarray at row 3, column 3: (176, 256)\n",
      "Subarray at row 1, column 1: (176, 256)\n",
      "Subarray at row 1, column 2: (176, 256)\n",
      "Subarray at row 1, column 3: (176, 256)\n",
      "Subarray at row 2, column 1: (176, 256)\n",
      "Subarray at row 2, column 2: (176, 256)\n",
      "Subarray at row 2, column 3: (176, 256)\n",
      "Subarray at row 3, column 1: (176, 256)\n",
      "Subarray at row 3, column 2: (176, 256)\n",
      "Subarray at row 3, column 3: (176, 256)\n"
     ]
    }
   ],
   "source": [
    "img = slice_numpy_array(img[0])\n",
    "img_lab = slice_numpy_array(img_lab[0])"
   ]
  },
  {
   "cell_type": "code",
   "execution_count": 133,
   "metadata": {},
   "outputs": [],
   "source": [
    "n_channel = 1 if img[0].ndim == 2 else img[0].shape[-1]  #If no third dim. then number of channels = 1. Otherwise get the num channels from the last dim."
   ]
  },
  {
   "cell_type": "code",
   "execution_count": 134,
   "metadata": {},
   "outputs": [
    {
     "name": "stderr",
     "output_type": "stream",
     "text": [
      "100%|██████████| 9/9 [00:00<00:00, 494.92it/s]\n",
      "100%|██████████| 9/9 [00:00<00:00, 387.84it/s]\n"
     ]
    }
   ],
   "source": [
    "\n",
    "#Normalize input images and fill holes in masks\n",
    "axis_norm = (0,1)   # normalize channels independently\n",
    "#axis_norm = (0,1,2) # normalize channels jointly\n",
    "if n_channel > 1:\n",
    "    print(\"Normalizing image channels %s.\" % ('jointly' if axis_norm is None or 2 in axis_norm else 'independently'))\n",
    "    sys.stdout.flush()\n",
    "\n",
    "X = [normalize(x,1,99.8,axis=axis_norm) for x in tqdm(img)]\n",
    "Y = [fill_label_holes(y) for y in tqdm(img_lab)]"
   ]
  },
  {
   "cell_type": "code",
   "execution_count": 135,
   "metadata": {},
   "outputs": [
    {
     "name": "stdout",
     "output_type": "stream",
     "text": [
      "number of images:   9\n",
      "- training:         8\n",
      "- validation:       1\n"
     ]
    }
   ],
   "source": [
    "#Split to train and val\n",
    "#You can use any method to split. I am following the method used in StarDist documentation example\n",
    "#add more data \n",
    "\n",
    "#assert len(img) > 1, \"not enough training data\"\n",
    "rng = np.random.RandomState(42)\n",
    "ind = rng.permutation(len(img))\n",
    "n_val = max(1, int(round(0.15 * len(ind))))\n",
    "ind_train, ind_val = ind[:-n_val], ind[-n_val:]\n",
    "X_val, Y_val = [img[i] for i in ind_val]  , [img_lab[i] for i in ind_val]\n",
    "X_trn, Y_trn = [img[i] for i in ind_train], [img_lab[i] for i in ind_train]\n",
    "print('number of images: %3d' % len(img))\n",
    "print('- training:       %3d' % len(X_trn))\n",
    "print('- validation:     %3d' % len(X_val))\n",
    "     \n"
   ]
  },
  {
   "cell_type": "code",
   "execution_count": 138,
   "metadata": {},
   "outputs": [
    {
     "name": "stdout",
     "output_type": "stream",
     "text": [
      "(176, 256)\n"
     ]
    }
   ],
   "source": [
    "print(img.shape)"
   ]
  },
  {
   "cell_type": "code",
   "execution_count": 146,
   "metadata": {},
   "outputs": [
    {
     "name": "stdout",
     "output_type": "stream",
     "text": [
      "Subarray at row 1, column 1: (176, 256)\n",
      "Subarray at row 1, column 2: (176, 256)\n",
      "Subarray at row 1, column 3: (176, 256)\n",
      "Subarray at row 2, column 1: (176, 256)\n",
      "Subarray at row 2, column 2: (176, 256)\n",
      "Subarray at row 2, column 3: (176, 256)\n",
      "Subarray at row 3, column 1: (176, 256)\n",
      "Subarray at row 3, column 2: (176, 256)\n",
      "Subarray at row 3, column 3: (176, 256)\n",
      "Subarray at row 1, column 1: (176, 256)\n",
      "Subarray at row 1, column 2: (176, 256)\n",
      "Subarray at row 1, column 3: (176, 256)\n",
      "Subarray at row 2, column 1: (176, 256)\n",
      "Subarray at row 2, column 2: (176, 256)\n",
      "Subarray at row 2, column 3: (176, 256)\n",
      "Subarray at row 3, column 1: (176, 256)\n",
      "Subarray at row 3, column 2: (176, 256)\n",
      "Subarray at row 3, column 3: (176, 256)\n"
     ]
    }
   ],
   "source": [
    "img = sorted(glob('input_image_small_part.tif'))\n",
    "img_lab = sorted(glob('input_image_small_part_ground_truth.tif'))\n",
    "img= list(map(imread,img))\n",
    "img_lab= list(map(imread,img_lab))\n",
    "img = slice_numpy_array(img[0])\n",
    "img_lab = slice_numpy_array(img_lab[0])"
   ]
  },
  {
   "cell_type": "code",
   "execution_count": 7,
   "metadata": {},
   "outputs": [
    {
     "name": "stdout",
     "output_type": "stream",
     "text": [
      "There are 4 registered models for 'StarDist2D':\n",
      "\n",
      "Name                  Alias(es)\n",
      "────                  ─────────\n",
      "'2D_versatile_fluo'   'Versatile (fluorescent nuclei)'\n",
      "'2D_versatile_he'     'Versatile (H&E nuclei)'\n",
      "'2D_paper_dsb2018'    'DSB 2018 (from StarDist 2D paper)'\n",
      "'2D_demo'             None\n",
      "Found model '2D_versatile_fluo' for 'StarDist2D'.\n",
      "Loading network weights from 'weights_best.h5'.\n",
      "Loading thresholds from 'thresholds.json'.\n",
      "Using default values: prob_thresh=0.479071, nms_thresh=0.3.\n"
     ]
    },
    {
     "ename": "UFuncTypeError",
     "evalue": "ufunc 'subtract' did not contain a loop with signature matching types (dtype('<U26'), dtype('<U26')) -> None",
     "output_type": "error",
     "traceback": [
      "\u001b[1;31m---------------------------------------------------------------------------\u001b[0m",
      "\u001b[1;31mUFuncTypeError\u001b[0m                            Traceback (most recent call last)",
      "\u001b[1;32mc:\\Users\\roman\\Desktop\\EPFL MASTER\\ML-github\\ML-project2\\ml-project-2-segmentedsouls\\pretrained_stardist.ipynb Cell 19\u001b[0m line \u001b[0;36m7\n\u001b[0;32m      <a href='vscode-notebook-cell:/c%3A/Users/roman/Desktop/EPFL%20MASTER/ML-github/ML-project2/ml-project-2-segmentedsouls/pretrained_stardist.ipynb#X26sZmlsZQ%3D%3D?line=3'>4</a>\u001b[0m \u001b[39m# creates a pretrained model\u001b[39;00m\n\u001b[0;32m      <a href='vscode-notebook-cell:/c%3A/Users/roman/Desktop/EPFL%20MASTER/ML-github/ML-project2/ml-project-2-segmentedsouls/pretrained_stardist.ipynb#X26sZmlsZQ%3D%3D?line=4'>5</a>\u001b[0m model \u001b[39m=\u001b[39m StarDist2D\u001b[39m.\u001b[39mfrom_pretrained(\u001b[39m'\u001b[39m\u001b[39m2D_versatile_fluo\u001b[39m\u001b[39m'\u001b[39m)\n\u001b[1;32m----> <a href='vscode-notebook-cell:/c%3A/Users/roman/Desktop/EPFL%20MASTER/ML-github/ML-project2/ml-project-2-segmentedsouls/pretrained_stardist.ipynb#X26sZmlsZQ%3D%3D?line=6'>7</a>\u001b[0m labels, _ \u001b[39m=\u001b[39m model\u001b[39m.\u001b[39mpredict_instances(normalize(img[\u001b[39m0\u001b[39;49m])) \u001b[39m#or for loop if many images\u001b[39;00m\n\u001b[0;32m      <a href='vscode-notebook-cell:/c%3A/Users/roman/Desktop/EPFL%20MASTER/ML-github/ML-project2/ml-project-2-segmentedsouls/pretrained_stardist.ipynb#X26sZmlsZQ%3D%3D?line=8'>9</a>\u001b[0m plt\u001b[39m.\u001b[39msubplot(\u001b[39m1\u001b[39m,\u001b[39m2\u001b[39m,\u001b[39m1\u001b[39m)\n\u001b[0;32m     <a href='vscode-notebook-cell:/c%3A/Users/roman/Desktop/EPFL%20MASTER/ML-github/ML-project2/ml-project-2-segmentedsouls/pretrained_stardist.ipynb#X26sZmlsZQ%3D%3D?line=9'>10</a>\u001b[0m plt\u001b[39m.\u001b[39mimshow(img[\u001b[39m0\u001b[39m], cmap\u001b[39m=\u001b[39m\u001b[39m\"\u001b[39m\u001b[39mgray\u001b[39m\u001b[39m\"\u001b[39m)\n",
      "File \u001b[1;32mc:\\Users\\roman\\AppData\\Local\\Programs\\Python\\Python311\\Lib\\site-packages\\csbdeep\\utils\\utils.py:54\u001b[0m, in \u001b[0;36mnormalize\u001b[1;34m(x, pmin, pmax, axis, clip, eps, dtype)\u001b[0m\n\u001b[0;32m     51\u001b[0m \u001b[39mdef\u001b[39;00m \u001b[39mnormalize\u001b[39m(x, pmin\u001b[39m=\u001b[39m\u001b[39m3\u001b[39m, pmax\u001b[39m=\u001b[39m\u001b[39m99.8\u001b[39m, axis\u001b[39m=\u001b[39m\u001b[39mNone\u001b[39;00m, clip\u001b[39m=\u001b[39m\u001b[39mFalse\u001b[39;00m, eps\u001b[39m=\u001b[39m\u001b[39m1e-20\u001b[39m, dtype\u001b[39m=\u001b[39mnp\u001b[39m.\u001b[39mfloat32):\n\u001b[0;32m     52\u001b[0m \u001b[39m    \u001b[39m\u001b[39m\"\"\"Percentile-based image normalization.\"\"\"\u001b[39;00m\n\u001b[1;32m---> 54\u001b[0m     mi \u001b[39m=\u001b[39m np\u001b[39m.\u001b[39;49mpercentile(x,pmin,axis\u001b[39m=\u001b[39;49maxis,keepdims\u001b[39m=\u001b[39;49m\u001b[39mTrue\u001b[39;49;00m)\n\u001b[0;32m     55\u001b[0m     ma \u001b[39m=\u001b[39m np\u001b[39m.\u001b[39mpercentile(x,pmax,axis\u001b[39m=\u001b[39maxis,keepdims\u001b[39m=\u001b[39m\u001b[39mTrue\u001b[39;00m)\n\u001b[0;32m     56\u001b[0m     \u001b[39mreturn\u001b[39;00m normalize_mi_ma(x, mi, ma, clip\u001b[39m=\u001b[39mclip, eps\u001b[39m=\u001b[39meps, dtype\u001b[39m=\u001b[39mdtype)\n",
      "File \u001b[1;32mc:\\Users\\roman\\AppData\\Local\\Programs\\Python\\Python311\\Lib\\site-packages\\numpy\\lib\\function_base.py:4283\u001b[0m, in \u001b[0;36mpercentile\u001b[1;34m(a, q, axis, out, overwrite_input, method, keepdims, interpolation)\u001b[0m\n\u001b[0;32m   4281\u001b[0m \u001b[39mif\u001b[39;00m \u001b[39mnot\u001b[39;00m _quantile_is_valid(q):\n\u001b[0;32m   4282\u001b[0m     \u001b[39mraise\u001b[39;00m \u001b[39mValueError\u001b[39;00m(\u001b[39m\"\u001b[39m\u001b[39mPercentiles must be in the range [0, 100]\u001b[39m\u001b[39m\"\u001b[39m)\n\u001b[1;32m-> 4283\u001b[0m \u001b[39mreturn\u001b[39;00m _quantile_unchecked(\n\u001b[0;32m   4284\u001b[0m     a, q, axis, out, overwrite_input, method, keepdims)\n",
      "File \u001b[1;32mc:\\Users\\roman\\AppData\\Local\\Programs\\Python\\Python311\\Lib\\site-packages\\numpy\\lib\\function_base.py:4555\u001b[0m, in \u001b[0;36m_quantile_unchecked\u001b[1;34m(a, q, axis, out, overwrite_input, method, keepdims)\u001b[0m\n\u001b[0;32m   4547\u001b[0m \u001b[39mdef\u001b[39;00m \u001b[39m_quantile_unchecked\u001b[39m(a,\n\u001b[0;32m   4548\u001b[0m                         q,\n\u001b[0;32m   4549\u001b[0m                         axis\u001b[39m=\u001b[39m\u001b[39mNone\u001b[39;00m,\n\u001b[1;32m   (...)\u001b[0m\n\u001b[0;32m   4552\u001b[0m                         method\u001b[39m=\u001b[39m\u001b[39m\"\u001b[39m\u001b[39mlinear\u001b[39m\u001b[39m\"\u001b[39m,\n\u001b[0;32m   4553\u001b[0m                         keepdims\u001b[39m=\u001b[39m\u001b[39mFalse\u001b[39;00m):\n\u001b[0;32m   4554\u001b[0m \u001b[39m    \u001b[39m\u001b[39m\"\"\"Assumes that q is in [0, 1], and is an ndarray\"\"\"\u001b[39;00m\n\u001b[1;32m-> 4555\u001b[0m     \u001b[39mreturn\u001b[39;00m _ureduce(a,\n\u001b[0;32m   4556\u001b[0m                     func\u001b[39m=\u001b[39;49m_quantile_ureduce_func,\n\u001b[0;32m   4557\u001b[0m                     q\u001b[39m=\u001b[39;49mq,\n\u001b[0;32m   4558\u001b[0m                     keepdims\u001b[39m=\u001b[39;49mkeepdims,\n\u001b[0;32m   4559\u001b[0m                     axis\u001b[39m=\u001b[39;49maxis,\n\u001b[0;32m   4560\u001b[0m                     out\u001b[39m=\u001b[39;49mout,\n\u001b[0;32m   4561\u001b[0m                     overwrite_input\u001b[39m=\u001b[39;49moverwrite_input,\n\u001b[0;32m   4562\u001b[0m                     method\u001b[39m=\u001b[39;49mmethod)\n",
      "File \u001b[1;32mc:\\Users\\roman\\AppData\\Local\\Programs\\Python\\Python311\\Lib\\site-packages\\numpy\\lib\\function_base.py:3823\u001b[0m, in \u001b[0;36m_ureduce\u001b[1;34m(a, func, keepdims, **kwargs)\u001b[0m\n\u001b[0;32m   3820\u001b[0m             index_out \u001b[39m=\u001b[39m (\u001b[39m0\u001b[39m, ) \u001b[39m*\u001b[39m nd\n\u001b[0;32m   3821\u001b[0m             kwargs[\u001b[39m'\u001b[39m\u001b[39mout\u001b[39m\u001b[39m'\u001b[39m] \u001b[39m=\u001b[39m out[(\u001b[39mEllipsis\u001b[39m, ) \u001b[39m+\u001b[39m index_out]\n\u001b[1;32m-> 3823\u001b[0m r \u001b[39m=\u001b[39m func(a, \u001b[39m*\u001b[39;49m\u001b[39m*\u001b[39;49mkwargs)\n\u001b[0;32m   3825\u001b[0m \u001b[39mif\u001b[39;00m out \u001b[39mis\u001b[39;00m \u001b[39mnot\u001b[39;00m \u001b[39mNone\u001b[39;00m:\n\u001b[0;32m   3826\u001b[0m     \u001b[39mreturn\u001b[39;00m out\n",
      "File \u001b[1;32mc:\\Users\\roman\\AppData\\Local\\Programs\\Python\\Python311\\Lib\\site-packages\\numpy\\lib\\function_base.py:4721\u001b[0m, in \u001b[0;36m_quantile_ureduce_func\u001b[1;34m(a, q, axis, out, overwrite_input, method)\u001b[0m\n\u001b[0;32m   4719\u001b[0m     \u001b[39melse\u001b[39;00m:\n\u001b[0;32m   4720\u001b[0m         arr \u001b[39m=\u001b[39m a\u001b[39m.\u001b[39mcopy()\n\u001b[1;32m-> 4721\u001b[0m result \u001b[39m=\u001b[39m _quantile(arr,\n\u001b[0;32m   4722\u001b[0m                    quantiles\u001b[39m=\u001b[39;49mq,\n\u001b[0;32m   4723\u001b[0m                    axis\u001b[39m=\u001b[39;49maxis,\n\u001b[0;32m   4724\u001b[0m                    method\u001b[39m=\u001b[39;49mmethod,\n\u001b[0;32m   4725\u001b[0m                    out\u001b[39m=\u001b[39;49mout)\n\u001b[0;32m   4726\u001b[0m \u001b[39mreturn\u001b[39;00m result\n",
      "File \u001b[1;32mc:\\Users\\roman\\AppData\\Local\\Programs\\Python\\Python311\\Lib\\site-packages\\numpy\\lib\\function_base.py:4840\u001b[0m, in \u001b[0;36m_quantile\u001b[1;34m(arr, quantiles, axis, method, out)\u001b[0m\n\u001b[0;32m   4838\u001b[0m     result_shape \u001b[39m=\u001b[39m virtual_indexes\u001b[39m.\u001b[39mshape \u001b[39m+\u001b[39m (\u001b[39m1\u001b[39m,) \u001b[39m*\u001b[39m (arr\u001b[39m.\u001b[39mndim \u001b[39m-\u001b[39m \u001b[39m1\u001b[39m)\n\u001b[0;32m   4839\u001b[0m     gamma \u001b[39m=\u001b[39m gamma\u001b[39m.\u001b[39mreshape(result_shape)\n\u001b[1;32m-> 4840\u001b[0m     result \u001b[39m=\u001b[39m _lerp(previous,\n\u001b[0;32m   4841\u001b[0m                    \u001b[39mnext\u001b[39;49m,\n\u001b[0;32m   4842\u001b[0m                    gamma,\n\u001b[0;32m   4843\u001b[0m                    out\u001b[39m=\u001b[39;49mout)\n\u001b[0;32m   4844\u001b[0m \u001b[39mif\u001b[39;00m np\u001b[39m.\u001b[39many(slices_having_nans):\n\u001b[0;32m   4845\u001b[0m     \u001b[39mif\u001b[39;00m result\u001b[39m.\u001b[39mndim \u001b[39m==\u001b[39m \u001b[39m0\u001b[39m \u001b[39mand\u001b[39;00m out \u001b[39mis\u001b[39;00m \u001b[39mNone\u001b[39;00m:\n\u001b[0;32m   4846\u001b[0m         \u001b[39m# can't write to a scalar, but indexing will be correct\u001b[39;00m\n",
      "File \u001b[1;32mc:\\Users\\roman\\AppData\\Local\\Programs\\Python\\Python311\\Lib\\site-packages\\numpy\\lib\\function_base.py:4655\u001b[0m, in \u001b[0;36m_lerp\u001b[1;34m(a, b, t, out)\u001b[0m\n\u001b[0;32m   4641\u001b[0m \u001b[39mdef\u001b[39;00m \u001b[39m_lerp\u001b[39m(a, b, t, out\u001b[39m=\u001b[39m\u001b[39mNone\u001b[39;00m):\n\u001b[0;32m   4642\u001b[0m \u001b[39m    \u001b[39m\u001b[39m\"\"\"\u001b[39;00m\n\u001b[0;32m   4643\u001b[0m \u001b[39m    Compute the linear interpolation weighted by gamma on each point of\u001b[39;00m\n\u001b[0;32m   4644\u001b[0m \u001b[39m    two same shape array.\u001b[39;00m\n\u001b[1;32m   (...)\u001b[0m\n\u001b[0;32m   4653\u001b[0m \u001b[39m        Output array.\u001b[39;00m\n\u001b[0;32m   4654\u001b[0m \u001b[39m    \"\"\"\u001b[39;00m\n\u001b[1;32m-> 4655\u001b[0m     diff_b_a \u001b[39m=\u001b[39m subtract(b, a)\n\u001b[0;32m   4656\u001b[0m     \u001b[39m# asanyarray is a stop-gap until gh-13105\u001b[39;00m\n\u001b[0;32m   4657\u001b[0m     lerp_interpolation \u001b[39m=\u001b[39m asanyarray(add(a, diff_b_a \u001b[39m*\u001b[39m t, out\u001b[39m=\u001b[39mout))\n",
      "\u001b[1;31mUFuncTypeError\u001b[0m: ufunc 'subtract' did not contain a loop with signature matching types (dtype('<U26'), dtype('<U26')) -> None"
     ]
    }
   ],
   "source": [
    "# prints a list of available models\n",
    "# TO DO- peut etre on peut juste faire pareil avec GT???\n",
    "StarDist2D.from_pretrained()\n",
    "\n",
    "# creates a pretrained model\n",
    "model = StarDist2D.from_pretrained('2D_versatile_fluo')\n",
    "\n",
    "labels, _ = model.predict_instances(normalize(img[0])) #or for loop if many images\n",
    "\n",
    "plt.subplot(1,2,1)\n",
    "plt.imshow(img[0], cmap=\"gray\")\n",
    "plt.axis(\"off\")\n",
    "plt.title(\"input image\")\n",
    "\n",
    "plt.subplot(1,2,2)\n",
    "plt.imshow(render_label(labels, img=img[0]))\n",
    "plt.axis(\"off\")\n",
    "plt.title(\"prediction + input overlay\")"
   ]
  },
  {
   "cell_type": "code",
   "execution_count": 155,
   "metadata": {},
   "outputs": [
    {
     "name": "stdout",
     "output_type": "stream",
     "text": [
      "9\n",
      "176\n",
      "9\n"
     ]
    }
   ],
   "source": [
    "# Plot image and label for some images - sanity check\n",
    "#print(img.shape)\n",
    "#TO DO- pb here \n",
    "\n",
    "def plot_img_label(img, lbl, img_title=\"image\", lbl_title=\"label\", **kwargs):\n",
    "    fig, (ai,al) = plt.subplots(1,2, figsize=(12,5), gridspec_kw=dict(width_ratios=(1.25,1)))\n",
    "    im = ai.imshow(img, cmap='gray', clim=(0,1))\n",
    "\n",
    "    ai.set_title(img_title)\n",
    "    fig.colorbar(im, ax=ai)\n",
    "    al.imshow(lbl, cmap=lbl_cmap)\n",
    "    al.set_title(lbl_title)\n",
    "    plt.tight_layout()\n",
    "\n",
    "i = min(9, len(img)-1)\n",
    "print(i)\n",
    "print(len(img))\n",
    "print(len(img_lab))\n",
    "if i < len(img) and i < len(img_lab):\n",
    "    img, lbl = img[i], img_lab[i]\n",
    "    assert img.ndim in (2,3)\n",
    "    img = img if (img.ndim==2 or img.shape[-1]==3) else img[...,0]\n",
    "    for index, x in enumerate(img):\n",
    "        plot_img_label(img[index], img_lab[index])"
   ]
  },
  {
   "cell_type": "code",
   "execution_count": 156,
   "metadata": {},
   "outputs": [
    {
     "ename": "ValueError",
     "evalue": "axes (YXC) must be of length 1.",
     "output_type": "error",
     "traceback": [
      "\u001b[1;31m---------------------------------------------------------------------------\u001b[0m",
      "\u001b[1;31mValueError\u001b[0m                                Traceback (most recent call last)",
      "\u001b[1;32mc:\\Users\\roman\\Desktop\\EPFL MASTER\\ML-github\\ML-project2\\ml-project-2-segmentedsouls\\pretrained_stardist.ipynb Cell 20\u001b[0m line \u001b[0;36m1\n\u001b[1;32m----> <a href='vscode-notebook-cell:/c%3A/Users/roman/Desktop/EPFL%20MASTER/ML-github/ML-project2/ml-project-2-segmentedsouls/pretrained_stardist.ipynb#X11sZmlsZQ%3D%3D?line=0'>1</a>\u001b[0m labels, _ \u001b[39m=\u001b[39m model\u001b[39m.\u001b[39;49mpredict_instances(normalize(img[\u001b[39m0\u001b[39;49m])) \u001b[39m#or for loop if many images\u001b[39;00m\n\u001b[0;32m      <a href='vscode-notebook-cell:/c%3A/Users/roman/Desktop/EPFL%20MASTER/ML-github/ML-project2/ml-project-2-segmentedsouls/pretrained_stardist.ipynb#X11sZmlsZQ%3D%3D?line=2'>3</a>\u001b[0m plt\u001b[39m.\u001b[39msubplot(\u001b[39m1\u001b[39m,\u001b[39m2\u001b[39m,\u001b[39m1\u001b[39m)\n\u001b[0;32m      <a href='vscode-notebook-cell:/c%3A/Users/roman/Desktop/EPFL%20MASTER/ML-github/ML-project2/ml-project-2-segmentedsouls/pretrained_stardist.ipynb#X11sZmlsZQ%3D%3D?line=3'>4</a>\u001b[0m plt\u001b[39m.\u001b[39mimshow(img[\u001b[39m0\u001b[39m], cmap\u001b[39m=\u001b[39m\u001b[39m\"\u001b[39m\u001b[39mgray\u001b[39m\u001b[39m\"\u001b[39m)\n",
      "File \u001b[1;32mc:\\Users\\roman\\AppData\\Local\\Programs\\Python\\Python311\\Lib\\site-packages\\stardist\\models\\base.py:777\u001b[0m, in \u001b[0;36mStarDistBase.predict_instances\u001b[1;34m(self, *args, **kwargs)\u001b[0m\n\u001b[0;32m    764\u001b[0m \u001b[39m@functools\u001b[39m\u001b[39m.\u001b[39mwraps(_predict_instances_generator)\n\u001b[0;32m    765\u001b[0m \u001b[39mdef\u001b[39;00m \u001b[39mpredict_instances\u001b[39m(\u001b[39mself\u001b[39m, \u001b[39m*\u001b[39margs, \u001b[39m*\u001b[39m\u001b[39m*\u001b[39mkwargs):\n\u001b[0;32m    766\u001b[0m     \u001b[39m# the reason why the actual computation happens as a generator function\u001b[39;00m\n\u001b[1;32m   (...)\u001b[0m\n\u001b[0;32m    774\u001b[0m \n\u001b[0;32m    775\u001b[0m     \u001b[39m# return last \"yield\"ed value of generator\u001b[39;00m\n\u001b[0;32m    776\u001b[0m     r \u001b[39m=\u001b[39m \u001b[39mNone\u001b[39;00m\n\u001b[1;32m--> 777\u001b[0m     \u001b[39mfor\u001b[39;49;00m r \u001b[39min\u001b[39;49;00m \u001b[39mself\u001b[39;49m\u001b[39m.\u001b[39;49m_predict_instances_generator(\u001b[39m*\u001b[39;49margs, \u001b[39m*\u001b[39;49m\u001b[39m*\u001b[39;49mkwargs):\n\u001b[0;32m    778\u001b[0m         \u001b[39mpass\u001b[39;49;00m\n\u001b[0;32m    779\u001b[0m     \u001b[39mreturn\u001b[39;00m r\n",
      "File \u001b[1;32mc:\\Users\\roman\\AppData\\Local\\Programs\\Python\\Python311\\Lib\\site-packages\\stardist\\models\\base.py:709\u001b[0m, in \u001b[0;36mStarDistBase._predict_instances_generator\u001b[1;34m(self, img, axes, normalizer, sparse, prob_thresh, nms_thresh, scale, n_tiles, show_tile_progress, verbose, return_labels, predict_kwargs, nms_kwargs, overlap_label, return_predict)\u001b[0m\n\u001b[0;32m    705\u001b[0m     warnings\u001b[39m.\u001b[39mwarn(\u001b[39m\"\u001b[39m\u001b[39mSetting sparse to False because return_predict is True\u001b[39m\u001b[39m\"\u001b[39m)\n\u001b[0;32m    707\u001b[0m nms_kwargs\u001b[39m.\u001b[39msetdefault(\u001b[39m\"\u001b[39m\u001b[39mverbose\u001b[39m\u001b[39m\"\u001b[39m, verbose)\n\u001b[1;32m--> 709\u001b[0m _axes         \u001b[39m=\u001b[39m \u001b[39mself\u001b[39;49m\u001b[39m.\u001b[39;49m_normalize_axes(img, axes)\n\u001b[0;32m    710\u001b[0m _axes_net     \u001b[39m=\u001b[39m \u001b[39mself\u001b[39m\u001b[39m.\u001b[39mconfig\u001b[39m.\u001b[39maxes\n\u001b[0;32m    711\u001b[0m _permute_axes \u001b[39m=\u001b[39m \u001b[39mself\u001b[39m\u001b[39m.\u001b[39m_make_permute_axes(_axes, _axes_net)\n",
      "File \u001b[1;32mc:\\Users\\roman\\AppData\\Local\\Programs\\Python\\Python311\\Lib\\site-packages\\stardist\\models\\base.py:1054\u001b[0m, in \u001b[0;36mStarDistBase._normalize_axes\u001b[1;34m(self, img, axes)\u001b[0m\n\u001b[0;32m   1051\u001b[0m     \u001b[39mif\u001b[39;00m img\u001b[39m.\u001b[39mndim \u001b[39m==\u001b[39m \u001b[39mlen\u001b[39m(axes)\u001b[39m-\u001b[39m\u001b[39m1\u001b[39m \u001b[39mand\u001b[39;00m \u001b[39mself\u001b[39m\u001b[39m.\u001b[39mconfig\u001b[39m.\u001b[39mn_channel_in \u001b[39m==\u001b[39m \u001b[39m1\u001b[39m:\n\u001b[0;32m   1052\u001b[0m         \u001b[39m# img has no dedicated channel axis, but 'C' always part of config axes\u001b[39;00m\n\u001b[0;32m   1053\u001b[0m         axes \u001b[39m=\u001b[39m axes\u001b[39m.\u001b[39mreplace(\u001b[39m'\u001b[39m\u001b[39mC\u001b[39m\u001b[39m'\u001b[39m,\u001b[39m'\u001b[39m\u001b[39m'\u001b[39m)\n\u001b[1;32m-> 1054\u001b[0m \u001b[39mreturn\u001b[39;00m axes_check_and_normalize(axes, img\u001b[39m.\u001b[39;49mndim)\n",
      "File \u001b[1;32mc:\\Users\\roman\\AppData\\Local\\Programs\\Python\\Python311\\Lib\\site-packages\\csbdeep\\utils\\utils.py:200\u001b[0m, in \u001b[0;36maxes_check_and_normalize\u001b[1;34m(axes, length, disallowed, return_allowed)\u001b[0m\n\u001b[0;32m    198\u001b[0m disallowed \u001b[39mis\u001b[39;00m \u001b[39mNone\u001b[39;00m \u001b[39mor\u001b[39;00m consume(a \u001b[39mnot\u001b[39;00m \u001b[39min\u001b[39;00m disallowed \u001b[39mor\u001b[39;00m _raise(\u001b[39mValueError\u001b[39;00m(\u001b[39m\"\u001b[39m\u001b[39mdisallowed axis \u001b[39m\u001b[39m'\u001b[39m\u001b[39m%s\u001b[39;00m\u001b[39m'\u001b[39m\u001b[39m.\u001b[39m\u001b[39m\"\u001b[39m\u001b[39m%\u001b[39ma)) \u001b[39mfor\u001b[39;00m a \u001b[39min\u001b[39;00m axes)\n\u001b[0;32m    199\u001b[0m consume(axes\u001b[39m.\u001b[39mcount(a)\u001b[39m==\u001b[39m\u001b[39m1\u001b[39m \u001b[39mor\u001b[39;00m _raise(\u001b[39mValueError\u001b[39;00m(\u001b[39m\"\u001b[39m\u001b[39maxis \u001b[39m\u001b[39m'\u001b[39m\u001b[39m%s\u001b[39;00m\u001b[39m'\u001b[39m\u001b[39m occurs more than once.\u001b[39m\u001b[39m\"\u001b[39m\u001b[39m%\u001b[39ma)) \u001b[39mfor\u001b[39;00m a \u001b[39min\u001b[39;00m axes)\n\u001b[1;32m--> 200\u001b[0m length \u001b[39mis\u001b[39;00m \u001b[39mNone\u001b[39;00m \u001b[39mor\u001b[39;00m \u001b[39mlen\u001b[39m(axes)\u001b[39m==\u001b[39mlength \u001b[39mor\u001b[39;00m _raise(\u001b[39mValueError\u001b[39;49;00m(\u001b[39m'\u001b[39;49m\u001b[39maxes (\u001b[39;49m\u001b[39m%s\u001b[39;49;00m\u001b[39m) must be of length \u001b[39;49m\u001b[39m%d\u001b[39;49;00m\u001b[39m.\u001b[39;49m\u001b[39m'\u001b[39;49m \u001b[39m%\u001b[39;49m (axes,length)))\n\u001b[0;32m    201\u001b[0m \u001b[39mreturn\u001b[39;00m (axes,allowed) \u001b[39mif\u001b[39;00m return_allowed \u001b[39melse\u001b[39;00m axes\n",
      "File \u001b[1;32mc:\\Users\\roman\\AppData\\Local\\Programs\\Python\\Python311\\Lib\\site-packages\\csbdeep\\utils\\utils.py:91\u001b[0m, in \u001b[0;36m_raise\u001b[1;34m(e)\u001b[0m\n\u001b[0;32m     89\u001b[0m \u001b[39mdef\u001b[39;00m \u001b[39m_raise\u001b[39m(e):\n\u001b[0;32m     90\u001b[0m     \u001b[39mif\u001b[39;00m \u001b[39misinstance\u001b[39m(e, \u001b[39mBaseException\u001b[39;00m):\n\u001b[1;32m---> 91\u001b[0m         \u001b[39mraise\u001b[39;00m e\n\u001b[0;32m     92\u001b[0m     \u001b[39melse\u001b[39;00m:\n\u001b[0;32m     93\u001b[0m         \u001b[39mraise\u001b[39;00m \u001b[39mValueError\u001b[39;00m(e)\n",
      "\u001b[1;31mValueError\u001b[0m: axes (YXC) must be of length 1."
     ]
    }
   ],
   "source": [
    "\n",
    "labels, _ = model.predict_instances(normalize(img[0])) #or for loop if many images\n",
    "\n",
    "plt.subplot(1,2,1)\n",
    "plt.imshow(img[0], cmap=\"gray\")\n",
    "plt.axis(\"off\")\n",
    "plt.title(\"input image\")\n",
    "\n",
    "plt.subplot(1,2,2)\n",
    "plt.imshow(render_label(labels, img=img[0]))\n",
    "plt.axis(\"off\")\n",
    "plt.title(\"prediction + input overlay\")"
   ]
  }
 ],
 "metadata": {
  "kernelspec": {
   "display_name": "Python 3",
   "language": "python",
   "name": "python3"
  },
  "language_info": {
   "codemirror_mode": {
    "name": "ipython",
    "version": 3
   },
   "file_extension": ".py",
   "mimetype": "text/x-python",
   "name": "python",
   "nbconvert_exporter": "python",
   "pygments_lexer": "ipython3",
   "version": "3.11.2"
  }
 },
 "nbformat": 4,
 "nbformat_minor": 2
}
